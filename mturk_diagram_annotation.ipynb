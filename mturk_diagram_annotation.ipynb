{
 "cells": [
  {
   "cell_type": "markdown",
   "metadata": {
    "deletable": true,
    "editable": true
   },
   "source": [
    "# Table of Contents\n",
    "* [Submitting HITs](#Submitting-HITs)\n",
    "\t* [Building URLs for images on s3](#Building-URLs-for-images-on-s3)\n",
    "\t* [submitting HITs in groups](#submitting-HITs-in-groups)\n",
    "\t\t* [creates HITs, careful with this one](#creates-HITs,-careful-with-this-one)\n",
    "* [Reviewing latest HITs](#Reviewing-latest-HITs)\n",
    "\t* [download](#download)\n",
    "\t* [process](#process)\n",
    "\t* [clustering](#clustering)\n",
    "\t\t* [The two commands above interact with mechanical turk and can take a while](#The-two-commands-above-interact-with-mechanical-turk-and-can-take-a-while)\n",
    "* [Merging latest round of HITs into combined dataset](#Merging-latest-round-of-HITs-into-combined-dataset)\n",
    "\t* [Load previously pickled results](#Load-previously-pickled-results)\n",
    "\t* [Load prior complete dataset if not in memory](#Load-prior-complete-dataset-if-not-in-memory)\n",
    "\t* [Updating full dataset](#Updating-full-dataset)\n",
    "\t* [Working with full dataset](#Working-with-full-dataset)\n",
    "\t\t* [worker specific](#worker-specific)\n",
    "\t\t* [Reviewing full dataset](#Reviewing-full-dataset)\n",
    "\t\t* [Sanitizing results- questions marked as answers](#Sanitizing-results--questions-marked-as-answers)\n",
    "* [Worker analysis](#Worker-analysis)\n",
    "\t* [Basic worker stats](#Basic-worker-stats)\n",
    "\t\t* [HIT duration for pricing](#HIT-duration-for-pricing)\n",
    "\t* [Identifying high and low consensus workers](#Identifying-high-and-low-consensus-workers)\n",
    "\t* [Messaging workers](#Messaging-workers)\n",
    "* [HIT end-of-life](#HIT-end-of-life)\n",
    "\t* [Pickle latest results](#Pickle-latest-results)\n",
    "\t* [Pickle combined dataset](#Pickle-combined-dataset)\n",
    "\t* [Accepting and deleting HITs... careful with these](#Accepting-and-deleting-HITs...-careful-with-these)\n",
    "* [End](#End)\n"
   ]
  },
  {
   "cell_type": "code",
   "execution_count": 415,
   "metadata": {
    "collapsed": false,
    "deletable": true,
    "editable": true,
    "run_control": {
     "frozen": false,
     "read_only": false
    }
   },
   "outputs": [],
   "source": [
    "%%capture\n",
    "from __future__ import division\n",
    "import numpy as np\n",
    "import pandas as pd\n",
    "import scipy.stats as st\n",
    "import itertools\n",
    "import math\n",
    "from collections import Counter, defaultdict\n",
    "%load_ext autoreload\n",
    "%autoreload 2\n",
    "\n",
    "import matplotlib as mpl\n",
    "mpl.use(\"Agg\")\n",
    "import matplotlib.pylab as plt\n",
    "#%matplotlib notebook\n",
    "%matplotlib inline\n",
    "%load_ext base16_mplrc\n",
    "%base16_mplrc light default\n",
    "plt.rcParams['figure.figsize'] = (16.0, 10.0)\n",
    "\n",
    "import re\n",
    "from datetime import datetime\n",
    "import dateutil.parser as dt_parse\n",
    "import pickle\n",
    "import boto\n",
    "import json\n",
    "import os\n",
    "\n",
    "from copy import deepcopy\n",
    "import boto.mturk.connection as tc\n",
    "import boto.mturk.question as tq\n",
    "from boto.mturk.qualification import PercentAssignmentsApprovedRequirement, Qualifications, Requirement\n",
    "\n",
    "from keysTkingdom import mturk_ai2\n",
    "from keysTkingdom import aws_tokes\n",
    "from keysTkingdom import mturk_aristo\n",
    "\n",
    "from amt_utils import process_hits as amt_util"
   ]
  },
  {
   "cell_type": "markdown",
   "metadata": {
    "deletable": true,
    "editable": true
   },
   "source": [
    "# Submitting HITs"
   ]
  },
  {
   "cell_type": "markdown",
   "metadata": {
    "deletable": true,
    "editable": true,
    "heading_collapsed": true
   },
   "source": [
    "## Building URLs for images on s3"
   ]
  },
  {
   "cell_type": "code",
   "execution_count": 363,
   "metadata": {
    "collapsed": true,
    "deletable": true,
    "editable": true,
    "hidden": true,
    "run_control": {
     "frozen": false,
     "read_only": false
    }
   },
   "outputs": [],
   "source": [
    "turk_data_flat_dir = '/Users/schwenk/wrk/pqa/ai2-vision-turk-data/pqa-annotation/images'"
   ]
  },
  {
   "cell_type": "code",
   "execution_count": 360,
   "metadata": {
    "collapsed": false,
    "deletable": true,
    "editable": true,
    "hidden": true,
    "run_control": {
     "frozen": false,
     "read_only": false
    }
   },
   "outputs": [],
   "source": [
    "with open('../sunrgbd/rem_image.pkl', 'r') as f:\n",
    "    remaining_images = pickle.load(f)"
   ]
  },
  {
   "cell_type": "code",
   "execution_count": 756,
   "metadata": {
    "collapsed": false,
    "deletable": true,
    "editable": true,
    "hidden": true,
    "run_control": {
     "frozen": false,
     "read_only": false
    }
   },
   "outputs": [],
   "source": [
    "image_names = set(remaining_images).intersection(set(imgn.split('.jpg')[0] for imgn in os.listdir(turk_data_flat_dir)))"
   ]
  },
  {
   "cell_type": "code",
   "execution_count": 759,
   "metadata": {
    "collapsed": false,
    "deletable": true,
    "editable": true,
    "hidden": true,
    "run_control": {
     "frozen": false,
     "read_only": false
    }
   },
   "outputs": [],
   "source": [
    "s3_base = 'https://s3-us-west-2.amazonaws.com/ai2-vision-turk-data/pqa-annotation/build/'\n",
    "\n",
    "def make_hit_url(image_name):\n",
    "    hit_url = s3_base + 'index.html?url={}'.format(image_name + '.jpg')\n",
    "    return hit_url"
   ]
  },
  {
   "cell_type": "code",
   "execution_count": 774,
   "metadata": {
    "collapsed": false,
    "deletable": true,
    "editable": true,
    "hidden": true,
    "run_control": {
     "frozen": false,
     "read_only": false
    }
   },
   "outputs": [],
   "source": [
    "hit_urls = [make_hit_url(image_name) for image_name in image_names if image_name not in pages_done]"
   ]
  },
  {
   "cell_type": "code",
   "execution_count": 800,
   "metadata": {
    "collapsed": false,
    "hidden": true,
    "scrolled": true
   },
   "outputs": [
    {
     "name": "stdout",
     "output_type": "stream",
     "text": [
      "https://s3-us-west-2.amazonaws.com/ai2-vision-turk-data/pqa-annotation/build/index.html?url=2014-12-18_14-25-11_260595134347.jpg\n",
      "https://s3-us-west-2.amazonaws.com/ai2-vision-turk-data/pqa-annotation/build/index.html?url=002920_2014-06-26_15-42-34_094959634447_rgbf000081-resize.jpg\n",
      "https://s3-us-west-2.amazonaws.com/ai2-vision-turk-data/pqa-annotation/build/index.html?url=001664_2014-06-20_12-21-18_260595134347_rgbf000139-resize.jpg\n",
      "https://s3-us-west-2.amazonaws.com/ai2-vision-turk-data/pqa-annotation/build/index.html?url=003308_2014-05-15_11-40-15_094959634447_rgbf000101-resize.jpg\n",
      "https://s3-us-west-2.amazonaws.com/ai2-vision-turk-data/pqa-annotation/build/index.html?url=NYU0960.jpg\n",
      "https://s3-us-west-2.amazonaws.com/ai2-vision-turk-data/pqa-annotation/build/index.html?url=0000064-000002152905.jpg\n",
      "https://s3-us-west-2.amazonaws.com/ai2-vision-turk-data/pqa-annotation/build/index.html?url=0000805-000026946864.jpg\n",
      "https://s3-us-west-2.amazonaws.com/ai2-vision-turk-data/pqa-annotation/build/index.html?url=2014_12_18_14_2_1.jpg\n",
      "https://s3-us-west-2.amazonaws.com/ai2-vision-turk-data/pqa-annotation/build/index.html?url=0000012-000000493167.jpg\n",
      "https://s3-us-west-2.amazonaws.com/ai2-vision-turk-data/pqa-annotation/build/index.html?url=003041_2014-06-15_13-35-37_094959634447_rgbf000077-resize.jpg\n"
     ]
    }
   ],
   "source": [
    "for  i in np.random.choice(hit_urls, 10):\n",
    "    print i"
   ]
  },
  {
   "cell_type": "code",
   "execution_count": 770,
   "metadata": {
    "collapsed": false,
    "hidden": true
   },
   "outputs": [],
   "source": [
    "pages_done = pd.read_pickle('pages_done.pkl').tolist()"
   ]
  },
  {
   "cell_type": "code",
   "execution_count": 771,
   "metadata": {
    "collapsed": false,
    "hidden": true
   },
   "outputs": [
    {
     "data": {
      "text/plain": [
       "912"
      ]
     },
     "execution_count": 771,
     "metadata": {},
     "output_type": "execute_result"
    }
   ],
   "source": [
    "len(pages_done)"
   ]
  },
  {
   "cell_type": "code",
   "execution_count": 776,
   "metadata": {
    "collapsed": false,
    "hidden": true
   },
   "outputs": [
    {
     "data": {
      "text/plain": [
       "8235"
      ]
     },
     "execution_count": 776,
     "metadata": {},
     "output_type": "execute_result"
    }
   ],
   "source": [
    "len(hit_urls)"
   ]
  },
  {
   "cell_type": "code",
   "execution_count": null,
   "metadata": {
    "collapsed": true,
    "hidden": true
   },
   "outputs": [],
   "source": []
  },
  {
   "cell_type": "code",
   "execution_count": null,
   "metadata": {
    "collapsed": true,
    "hidden": true
   },
   "outputs": [],
   "source": []
  },
  {
   "cell_type": "code",
   "execution_count": 801,
   "metadata": {
    "collapsed": false,
    "hidden": true
   },
   "outputs": [
    {
     "data": {
      "text/plain": [
       "0.054"
      ]
     },
     "execution_count": 801,
     "metadata": {},
     "output_type": "execute_result"
    }
   ],
   "source": [
    "0.03 * 1.8"
   ]
  },
  {
   "cell_type": "code",
   "execution_count": null,
   "metadata": {
    "collapsed": true,
    "hidden": true
   },
   "outputs": [],
   "source": []
  },
  {
   "cell_type": "markdown",
   "metadata": {
    "deletable": true,
    "editable": true
   },
   "source": [
    "## submitting HITs in groups"
   ]
  },
  {
   "cell_type": "code",
   "execution_count": 821,
   "metadata": {
    "collapsed": false,
    "deletable": true,
    "editable": true,
    "run_control": {
     "frozen": false,
     "read_only": false
    }
   },
   "outputs": [
    {
     "name": "stdout",
     "output_type": "stream",
     "text": [
      "$1,403.04\n"
     ]
    }
   ],
   "source": [
    "## Switch between sandbox and the real world here ##\n",
    "## DON'T FORGET to change submission POST request in the client ##\n",
    "\n",
    "sandbox_host = 'mechanicalturk.sandbox.amazonaws.com' \n",
    "real_world_host = 'mechanicalturk.amazonaws.com'\n",
    "mturk = tc.MTurkConnection(\n",
    "    aws_access_key_id = mturk_aristo.access_key,\n",
    "    aws_secret_access_key = mturk_aristo.access_secret_key,\n",
    "    debug = 1, # debug = 2 prints out all requests.\n",
    "    host = real_world_host\n",
    ")\n",
    "current_account_balance = mturk.get_account_balance()[0]\n",
    "print current_account_balance # a reminder of sandbox"
   ]
  },
  {
   "cell_type": "code",
   "execution_count": 826,
   "metadata": {
    "collapsed": false,
    "deletable": true,
    "editable": true,
    "run_control": {
     "frozen": false,
     "read_only": false
    }
   },
   "outputs": [],
   "source": [
    "static_params = {\n",
    "    'title': \"Find attached obects in an image\",\n",
    "    'description': \"Select objects in a room that are attached to a surface\",\n",
    "    'keywords': ['image', 'object tagging'],\n",
    "    'frame_height': 800,\n",
    "    'amount': 0.06,\n",
    "    'duration': 3600 * 12,\n",
    "    'lifetime': 3600 * 24 * 3,\n",
    "    'max_assignments': 1,\n",
    "    'response_groups': ['HITDetail'],\n",
    "    'quals': [new_requirement]\n",
    "}"
   ]
  },
  {
   "cell_type": "code",
   "execution_count": 530,
   "metadata": {
    "collapsed": false,
    "deletable": true,
    "editable": true,
    "run_control": {
     "frozen": false,
     "read_only": false
    }
   },
   "outputs": [
    {
     "name": "stdout",
     "output_type": "stream",
     "text": [
      "240.0\n"
     ]
    }
   ],
   "source": [
    "expected_cost = len(images_to_submit) *  static_params['amount'] * static_params['max_assignments']\n",
    "print expected_cost"
   ]
  },
  {
   "cell_type": "code",
   "execution_count": 804,
   "metadata": {
    "collapsed": true
   },
   "outputs": [],
   "source": [
    "attached_qual_build = mturk.create_qualification_type('attached object finding' , 'This is a qualification for finding attached objects in a scene.', status='Active')\n",
    "attached_qual = attached_qual_build[0]\n",
    "new_requirement = Requirement(attached_qual.QualificationTypeId, 'EqualTo', integer_value=1)"
   ]
  },
  {
   "cell_type": "code",
   "execution_count": null,
   "metadata": {
    "collapsed": true
   },
   "outputs": [],
   "source": []
  },
  {
   "cell_type": "code",
   "execution_count": null,
   "metadata": {
    "collapsed": true
   },
   "outputs": [],
   "source": []
  },
  {
   "cell_type": "code",
   "execution_count": 814,
   "metadata": {
    "collapsed": true
   },
   "outputs": [],
   "source": [
    "my_id = 'ATRVCA186WV1B'"
   ]
  },
  {
   "cell_type": "code",
   "execution_count": 813,
   "metadata": {
    "collapsed": false
   },
   "outputs": [
    {
     "data": {
      "text/plain": [
       "104"
      ]
     },
     "execution_count": 813,
     "metadata": {},
     "output_type": "execute_result"
    }
   ],
   "source": [
    "set(all_good_workers)"
   ]
  },
  {
   "cell_type": "code",
   "execution_count": 815,
   "metadata": {
    "collapsed": true
   },
   "outputs": [],
   "source": [
    "for worker in set(all_good_workers + [my_id]):\n",
    "    mturk.assign_qualification(attached_qual.QualificationTypeId, worker)"
   ]
  },
  {
   "cell_type": "code",
   "execution_count": null,
   "metadata": {
    "collapsed": true
   },
   "outputs": [],
   "source": []
  },
  {
   "cell_type": "markdown",
   "metadata": {
    "deletable": true,
    "editable": true
   },
   "source": [
    "### creates HITs, careful with this one"
   ]
  },
  {
   "cell_type": "code",
   "execution_count": 1025,
   "metadata": {
    "collapsed": false,
    "deletable": true,
    "editable": true,
    "run_control": {
     "frozen": false,
     "read_only": false
    }
   },
   "outputs": [
    {
     "name": "stdout",
     "output_type": "stream",
     "text": [
      "expect this batch of HITs to cost: $240.0\n"
     ]
    }
   ],
   "source": [
    "images_to_submit = hit_urls[2000:6000]\n",
    "expected_cost = len(images_to_submit) *  static_params['amount'] * static_params['max_assignments']\n",
    "if float(current_account_balance.amount) < expected_cost:\n",
    "    print('WARNING -- account balance is too low -- WARNING')\n",
    "print('expect this batch of HITs to cost: $' + str(expected_cost))"
   ]
  },
  {
   "cell_type": "markdown",
   "metadata": {
    "deletable": true,
    "editable": true
   },
   "source": [
    "uncomment cell below only when ready to submit"
   ]
  },
  {
   "cell_type": "code",
   "execution_count": 827,
   "metadata": {
    "code_folding": [],
    "collapsed": false,
    "deletable": true,
    "editable": true,
    "run_control": {
     "frozen": false,
     "read_only": false
    },
    "scrolled": true
   },
   "outputs": [],
   "source": [
    "amt_util.create_hits_from_pages(mturk, images_to_submit, static_params)"
   ]
  },
  {
   "cell_type": "markdown",
   "metadata": {
    "deletable": true,
    "editable": true
   },
   "source": [
    "# Reviewing latest HITs"
   ]
  },
  {
   "cell_type": "markdown",
   "metadata": {
    "deletable": true,
    "editable": true
   },
   "source": [
    "## download"
   ]
  },
  {
   "cell_type": "code",
   "execution_count": 992,
   "metadata": {
    "collapsed": true
   },
   "outputs": [],
   "source": [
    "r_hits_current_batch = amt_util.get_completed_hits(mturk)"
   ]
  },
  {
   "cell_type": "code",
   "execution_count": 1005,
   "metadata": {
    "collapsed": false,
    "deletable": true,
    "editable": true,
    "run_control": {
     "frozen": false,
     "read_only": false
    }
   },
   "outputs": [],
   "source": [
    "# assignment_results_current_batch = amt_util.get_assignments(mturk, r_hits_current_batch)\n",
    "assignment_results_current_batch = amt_util.get_assignments(mturk, new_h)"
   ]
  },
  {
   "cell_type": "code",
   "execution_count": 1007,
   "metadata": {
    "collapsed": false
   },
   "outputs": [
    {
     "data": {
      "text/plain": [
       "2000"
      ]
     },
     "execution_count": 1007,
     "metadata": {},
     "output_type": "execute_result"
    }
   ],
   "source": [
    "len(assignment_results_current_batch)"
   ]
  },
  {
   "cell_type": "code",
   "execution_count": 920,
   "metadata": {
    "collapsed": false
   },
   "outputs": [
    {
     "name": "stdout",
     "output_type": "stream",
     "text": [
      "CPU times: user 388 ms, sys: 20.2 ms, total: 408 ms\n",
      "Wall time: 17.5 s\n"
     ]
    }
   ],
   "source": [
    "%%time\n",
    "test_r_hits_current_batch = amt_util.get_completed_hits(mturk)"
   ]
  },
  {
   "cell_type": "code",
   "execution_count": 921,
   "metadata": {
    "collapsed": false
   },
   "outputs": [
    {
     "data": {
      "text/plain": [
       "11782"
      ]
     },
     "execution_count": 921,
     "metadata": {},
     "output_type": "execute_result"
    }
   ],
   "source": [
    "len(r_hits_current_batch)"
   ]
  },
  {
   "cell_type": "code",
   "execution_count": 914,
   "metadata": {
    "collapsed": false
   },
   "outputs": [
    {
     "data": {
      "text/plain": [
       "11920"
      ]
     },
     "execution_count": 914,
     "metadata": {},
     "output_type": "execute_result"
    }
   ],
   "source": [
    "len(test_r_hits_current_batch)"
   ]
  },
  {
   "cell_type": "code",
   "execution_count": 960,
   "metadata": {
    "collapsed": true
   },
   "outputs": [],
   "source": [
    "test_hit = test_r_hits_current_batch[-1]"
   ]
  },
  {
   "cell_type": "code",
   "execution_count": 965,
   "metadata": {
    "collapsed": false
   },
   "outputs": [],
   "source": [
    "test_r_hits_current_batch = list(mturk.get_all_hits())"
   ]
  },
  {
   "cell_type": "code",
   "execution_count": 966,
   "metadata": {
    "collapsed": false
   },
   "outputs": [
    {
     "data": {
      "text/plain": [
       "13782"
      ]
     },
     "execution_count": 966,
     "metadata": {},
     "output_type": "execute_result"
    }
   ],
   "source": [
    "len(test_r_hits_current_batch)"
   ]
  },
  {
   "cell_type": "code",
   "execution_count": 969,
   "metadata": {
    "collapsed": false
   },
   "outputs": [],
   "source": [
    "test_new_hit = test_r_hits_current_batch[0]"
   ]
  },
  {
   "cell_type": "code",
   "execution_count": 970,
   "metadata": {
    "collapsed": true
   },
   "outputs": [
    {
     "data": {
      "text/plain": [
       "['Amount',\n",
       " 'AssignmentDurationInSeconds',\n",
       " 'AutoApprovalDelayInSeconds',\n",
       " 'Comparator',\n",
       " 'CreationTime',\n",
       " 'CurrencyCode',\n",
       " 'Description',\n",
       " 'Expiration',\n",
       " 'FormattedPrice',\n",
       " 'HIT',\n",
       " 'HITGroupId',\n",
       " 'HITId',\n",
       " 'HITReviewStatus',\n",
       " 'HITStatus',\n",
       " 'HITTypeId',\n",
       " 'IntegerValue',\n",
       " 'Keywords',\n",
       " 'MaxAssignments',\n",
       " 'NumberOfAssignmentsAvailable',\n",
       " 'NumberOfAssignmentsCompleted',\n",
       " 'NumberOfAssignmentsPending',\n",
       " 'QualificationRequirement',\n",
       " 'QualificationTypeId',\n",
       " 'RequiredToPreview',\n",
       " 'Reward',\n",
       " 'Title',\n",
       " '__class__',\n",
       " '__delattr__',\n",
       " '__dict__',\n",
       " '__doc__',\n",
       " '__format__',\n",
       " '__getattribute__',\n",
       " '__hash__',\n",
       " '__init__',\n",
       " '__module__',\n",
       " '__new__',\n",
       " '__reduce__',\n",
       " '__reduce_ex__',\n",
       " '__repr__',\n",
       " '__setattr__',\n",
       " '__sizeof__',\n",
       " '__str__',\n",
       " '__subclasshook__',\n",
       " '__weakref__',\n",
       " '_has_expired',\n",
       " 'endElement',\n",
       " 'expired',\n",
       " 'startElement']"
      ]
     },
     "execution_count": 970,
     "metadata": {},
     "output_type": "execute_result"
    }
   ],
   "source": [
    "dir(test_new_hit)"
   ]
  },
  {
   "cell_type": "code",
   "execution_count": 997,
   "metadata": {
    "collapsed": false
   },
   "outputs": [],
   "source": [
    "old_h = []\n",
    "new_h = []\n",
    "for hit in test_r_hits_current_batch:\n",
    "    try:\n",
    "        if hit.MaxAssignments == '1':\n",
    "            new_h.append(hit)\n",
    "        else:\n",
    "            old_h.append(hit)\n",
    "    except:\n",
    "        old_h.append(hit)"
   ]
  },
  {
   "cell_type": "code",
   "execution_count": 559,
   "metadata": {
    "collapsed": false
   },
   "outputs": [
    {
     "data": {
      "text/plain": [
       "u'2017-02-21T07:16:24Z'"
      ]
     },
     "execution_count": 559,
     "metadata": {},
     "output_type": "execute_result"
    }
   ],
   "source": [
    "ta1.SubmitTime"
   ]
  },
  {
   "cell_type": "code",
   "execution_count": 593,
   "metadata": {
    "collapsed": false
   },
   "outputs": [
    {
     "name": "stdout",
     "output_type": "stream",
     "text": [
      "2017-02-22T03:49:18Z\n",
      "2017-02-22T03:50:13Z\n",
      "2017-02-22T03:55:01Z\n"
     ]
    }
   ],
   "source": [
    "for hit_id, assignments in tag1:\n",
    "    for assignment in assignments:\n",
    "        print assignment.SubmitTime"
   ]
  },
  {
   "cell_type": "code",
   "execution_count": null,
   "metadata": {
    "collapsed": true
   },
   "outputs": [],
   "source": []
  },
  {
   "cell_type": "code",
   "execution_count": null,
   "metadata": {
    "collapsed": true
   },
   "outputs": [],
   "source": []
  },
  {
   "cell_type": "markdown",
   "metadata": {},
   "source": [
    "## process group"
   ]
  },
  {
   "cell_type": "code",
   "execution_count": 1008,
   "metadata": {
    "collapsed": true
   },
   "outputs": [],
   "source": [
    "group_raw_results = amt_util.process_raw_hits(assignment_results_current_batch)"
   ]
  },
  {
   "cell_type": "code",
   "execution_count": 1015,
   "metadata": {
    "collapsed": true
   },
   "outputs": [],
   "source": [
    "group_raw_res_df = amt_util.make_results_df(group_raw_results)"
   ]
  },
  {
   "cell_type": "code",
   "execution_count": 1022,
   "metadata": {
    "collapsed": false,
    "scrolled": true
   },
   "outputs": [
    {
     "data": {
      "text/plain": [
       "array([ 0.13911447])"
      ]
     },
     "execution_count": 1022,
     "metadata": {},
     "output_type": "execute_result"
    }
   ],
   "source": [
    "(group_raw_res_df['category'] == 'Attached').sum()"
   ]
  },
  {
   "cell_type": "code",
   "execution_count": 1024,
   "metadata": {
    "collapsed": false
   },
   "outputs": [],
   "source": [
    "group_raw_res_df.to_pickle('round_4_qual.pkl')"
   ]
  },
  {
   "cell_type": "markdown",
   "metadata": {
    "deletable": true,
    "editable": true
   },
   "source": [
    "## process"
   ]
  },
  {
   "cell_type": "code",
   "execution_count": 699,
   "metadata": {
    "collapsed": false,
    "deletable": true,
    "editable": true,
    "run_control": {
     "frozen": false,
     "read_only": false
    }
   },
   "outputs": [
    {
     "name": "stdout",
     "output_type": "stream",
     "text": [
      "current assignment statuses\n",
      "Submitted    13424\n",
      "dtype: int64\n"
     ]
    }
   ],
   "source": [
    "print 'current assignment statuses'\n",
    "print amt_util.get_assignment_statuses(assignment_results_current_batch)"
   ]
  },
  {
   "cell_type": "code",
   "execution_count": 266,
   "metadata": {
    "collapsed": true,
    "deletable": true,
    "editable": true,
    "run_control": {
     "frozen": false,
     "read_only": false
    }
   },
   "outputs": [],
   "source": [
    "submitted_assignments = defaultdict(list)\n",
    "for hitid, assignments in assignment_results_current_batch.items():\n",
    "    for assignment in assignments:\n",
    "        if assignment.AssignmentStatus == 'Submitted':\n",
    "            submitted_assignments[hitid].append(assignment)"
   ]
  },
  {
   "cell_type": "code",
   "execution_count": 267,
   "metadata": {
    "collapsed": false,
    "deletable": true,
    "editable": true,
    "run_control": {
     "frozen": false,
     "read_only": false
    }
   },
   "outputs": [
    {
     "data": {
      "text/plain": [
       "2338"
      ]
     },
     "execution_count": 267,
     "metadata": {},
     "output_type": "execute_result"
    }
   ],
   "source": [
    "len(submitted_assignments)"
   ]
  },
  {
   "cell_type": "code",
   "execution_count": 700,
   "metadata": {
    "collapsed": false,
    "deletable": true,
    "editable": true,
    "run_control": {
     "frozen": false,
     "read_only": false
    }
   },
   "outputs": [],
   "source": [
    "raw_results = amt_util.process_raw_hits(assignment_results_current_batch)"
   ]
  },
  {
   "cell_type": "code",
   "execution_count": 701,
   "metadata": {
    "collapsed": false,
    "deletable": true,
    "editable": true,
    "run_control": {
     "frozen": false,
     "read_only": false
    }
   },
   "outputs": [],
   "source": [
    "raw_res_df = amt_util.make_results_df(raw_results)"
   ]
  },
  {
   "cell_type": "code",
   "execution_count": 727,
   "metadata": {
    "collapsed": false
   },
   "outputs": [],
   "source": [
    "good_res_df = raw_res_df[raw_res_df['worker_id'].isin(potentially_good_workers)]"
   ]
  },
  {
   "cell_type": "code",
   "execution_count": 683,
   "metadata": {
    "collapsed": false
   },
   "outputs": [],
   "source": [
    "raw_res_df['submit_time'] =  pd.to_datetime(raw_res_df['submit_time'])"
   ]
  },
  {
   "cell_type": "code",
   "execution_count": 684,
   "metadata": {
    "collapsed": false
   },
   "outputs": [],
   "source": [
    "start_time = pd.Timestamp('2017-02-22 0:0:00')"
   ]
  },
  {
   "cell_type": "code",
   "execution_count": 693,
   "metadata": {
    "collapsed": false
   },
   "outputs": [],
   "source": [
    "latest_res_df = good_res_df[good_res_df['submit_time'] > start_time]"
   ]
  },
  {
   "cell_type": "code",
   "execution_count": 711,
   "metadata": {
    "collapsed": false
   },
   "outputs": [],
   "source": [
    "# (raw_res_df['submit_time'] > start_time).sum()"
   ]
  },
  {
   "cell_type": "code",
   "execution_count": 728,
   "metadata": {
    "collapsed": false,
    "deletable": true,
    "editable": true,
    "run_control": {
     "frozen": false,
     "read_only": false
    }
   },
   "outputs": [],
   "source": [
    "consensus_res_df = amt_util.make_consensus_df(good_res_df, 'NO CONSENSUS')"
   ]
  },
  {
   "cell_type": "code",
   "execution_count": 731,
   "metadata": {
    "collapsed": false,
    "deletable": true,
    "editable": true,
    "run_control": {
     "frozen": false,
     "read_only": false
    }
   },
   "outputs": [],
   "source": [
    "consensus_res_df.to_pickle('combined_round2_3_results.pkl')"
   ]
  },
  {
   "cell_type": "code",
   "execution_count": 769,
   "metadata": {
    "collapsed": false
   },
   "outputs": [],
   "source": [
    "pd.Series(pd.unique(consensus_res_df['page'].apply(lambda x: x.split('.jpg')[0]))).to_pickle('pages_done.pkl')"
   ]
  },
  {
   "cell_type": "code",
   "execution_count": 730,
   "metadata": {
    "collapsed": false,
    "deletable": true,
    "editable": true,
    "run_control": {
     "frozen": false,
     "read_only": false
    }
   },
   "outputs": [
    {
     "data": {
      "text/plain": [
       "(912,)"
      ]
     },
     "execution_count": 730,
     "metadata": {},
     "output_type": "execute_result"
    }
   ],
   "source": [
    "pd.unique(consensus_res_df['page']).shape"
   ]
  },
  {
   "cell_type": "code",
   "execution_count": 174,
   "metadata": {
    "collapsed": false,
    "deletable": true,
    "editable": true,
    "run_control": {
     "frozen": false,
     "read_only": false
    }
   },
   "outputs": [
    {
     "data": {
      "text/html": [
       "<div>\n",
       "<table border=\"1\" class=\"dataframe\">\n",
       "  <thead>\n",
       "    <tr style=\"text-align: right;\">\n",
       "      <th></th>\n",
       "      <th>page</th>\n",
       "      <th>category</th>\n",
       "      <th>hit_id</th>\n",
       "      <th>assignment_id</th>\n",
       "      <th>box_id</th>\n",
       "      <th>worker_id</th>\n",
       "    </tr>\n",
       "  </thead>\n",
       "  <tbody>\n",
       "    <tr>\n",
       "      <th>2581</th>\n",
       "      <td>0000006-000000268176.jpg</td>\n",
       "      <td>Attached</td>\n",
       "      <td>3MWOYZD5WVPUUX2M7IN8SWG2WSSONH</td>\n",
       "      <td>3DQQ64TANGM5PBLV4LWB1ZT3CN4PWE</td>\n",
       "      <td>T13</td>\n",
       "      <td>AAHY5RYKZHXGZ</td>\n",
       "    </tr>\n",
       "    <tr>\n",
       "      <th>2599</th>\n",
       "      <td>0000006-000000268176.jpg</td>\n",
       "      <td>unlabeled</td>\n",
       "      <td>3MWOYZD5WVPUUX2M7IN8SWG2WSSONH</td>\n",
       "      <td>33CID57104UI7S4929S2FL9M9KDL3A</td>\n",
       "      <td>T13</td>\n",
       "      <td>A356GXVAYWN0DV</td>\n",
       "    </tr>\n",
       "    <tr>\n",
       "      <th>2617</th>\n",
       "      <td>0000006-000000268176.jpg</td>\n",
       "      <td>unlabeled</td>\n",
       "      <td>3MWOYZD5WVPUUX2M7IN8SWG2WSSONH</td>\n",
       "      <td>3IKZ72A5B4H3B4NNYH9JTM28H5KFNH</td>\n",
       "      <td>T13</td>\n",
       "      <td>A39ZQZ2T5Z7JSB</td>\n",
       "    </tr>\n",
       "  </tbody>\n",
       "</table>\n",
       "</div>"
      ],
      "text/plain": [
       "                          page   category                          hit_id  \\\n",
       "2581  0000006-000000268176.jpg   Attached  3MWOYZD5WVPUUX2M7IN8SWG2WSSONH   \n",
       "2599  0000006-000000268176.jpg  unlabeled  3MWOYZD5WVPUUX2M7IN8SWG2WSSONH   \n",
       "2617  0000006-000000268176.jpg  unlabeled  3MWOYZD5WVPUUX2M7IN8SWG2WSSONH   \n",
       "\n",
       "                       assignment_id box_id       worker_id  \n",
       "2581  3DQQ64TANGM5PBLV4LWB1ZT3CN4PWE    T13   AAHY5RYKZHXGZ  \n",
       "2599  33CID57104UI7S4929S2FL9M9KDL3A    T13  A356GXVAYWN0DV  \n",
       "2617  3IKZ72A5B4H3B4NNYH9JTM28H5KFNH    T13  A39ZQZ2T5Z7JSB  "
      ]
     },
     "execution_count": 174,
     "metadata": {},
     "output_type": "execute_result"
    }
   ],
   "source": [
    "grouped_by_page = raw_res_df.groupby(['page', 'box_id'])\n",
    "grouped_by_page.get_group(('0000006-000000268176.jpg', 'T13'))"
   ]
  },
  {
   "cell_type": "code",
   "execution_count": 163,
   "metadata": {
    "collapsed": false,
    "deletable": true,
    "editable": true,
    "run_control": {
     "frozen": false,
     "read_only": false
    }
   },
   "outputs": [],
   "source": [
    "grouped_by_page = raw_res_df.groupby(['page', 'box_id'])\n",
    "aggregated_df = grouped_by_page.agg(pd.DataFrame.mode)"
   ]
  },
  {
   "cell_type": "code",
   "execution_count": 206,
   "metadata": {
    "collapsed": false,
    "deletable": true,
    "editable": true,
    "run_control": {
     "frozen": false,
     "read_only": false
    }
   },
   "outputs": [
    {
     "data": {
      "text/plain": [
       "(25974, 6)"
      ]
     },
     "execution_count": 206,
     "metadata": {},
     "output_type": "execute_result"
    }
   ],
   "source": [
    "raw_res_df.shape"
   ]
  },
  {
   "cell_type": "code",
   "execution_count": 155,
   "metadata": {
    "collapsed": false,
    "deletable": true,
    "editable": true,
    "run_control": {
     "frozen": false,
     "read_only": false
    }
   },
   "outputs": [
    {
     "data": {
      "text/plain": [
       "2752"
      ]
     },
     "execution_count": 155,
     "metadata": {},
     "output_type": "execute_result"
    }
   ],
   "source": [
    "raw_res_df['category'].value_counts()['Attached']"
   ]
  },
  {
   "cell_type": "code",
   "execution_count": 326,
   "metadata": {
    "collapsed": false
   },
   "outputs": [],
   "source": [
    "grouped_by_page = raw_res_df.groupby(['page', 'box_id'])\n",
    "aggregated_df = grouped_by_page.agg(lambda x:len(set(x)) == 1)\n",
    "aggregated_df.drop(['assignment_id', 'worker_id'], axis=1, inplace=True)\n",
    "aggregated_df = aggregated_df.reset_index()"
   ]
  },
  {
   "cell_type": "code",
   "execution_count": 328,
   "metadata": {
    "collapsed": false,
    "scrolled": true
   },
   "outputs": [],
   "source": [
    "all_match = aggregated_df[['category']].copy()"
   ]
  },
  {
   "cell_type": "code",
   "execution_count": 329,
   "metadata": {
    "collapsed": false,
    "scrolled": false
   },
   "outputs": [],
   "source": [
    "consensus_res_df['all_con'] = all_match"
   ]
  },
  {
   "cell_type": "code",
   "execution_count": 330,
   "metadata": {
    "collapsed": false,
    "scrolled": true
   },
   "outputs": [],
   "source": [
    "consensus_res_df['stringent_category'] = consensus_res_df['category'] * consensus_res_df['all_con']\n",
    "consensus_res_df['stringent_category'] = consensus_res_df['stringent_category'].replace(r'', 'unlabeled', regex=True)"
   ]
  },
  {
   "cell_type": "code",
   "execution_count": 327,
   "metadata": {
    "collapsed": false
   },
   "outputs": [],
   "source": [
    "consensus_res_df = make_consensus_df(raw_res_df, 'NO CONSENSUS')"
   ]
  },
  {
   "cell_type": "code",
   "execution_count": 276,
   "metadata": {
    "collapsed": false,
    "deletable": true,
    "editable": true,
    "run_control": {
     "frozen": false,
     "read_only": false
    }
   },
   "outputs": [
    {
     "data": {
      "text/plain": [
       "unlabeled    32752\n",
       "Attached     17169\n",
       "Name: category, dtype: int64"
      ]
     },
     "execution_count": 276,
     "metadata": {},
     "output_type": "execute_result"
    }
   ],
   "source": [
    "consensus_res_df['category'].value_counts()"
   ]
  },
  {
   "cell_type": "code",
   "execution_count": null,
   "metadata": {
    "collapsed": true
   },
   "outputs": [],
   "source": []
  },
  {
   "cell_type": "code",
   "execution_count": null,
   "metadata": {
    "collapsed": true
   },
   "outputs": [],
   "source": []
  },
  {
   "cell_type": "code",
   "execution_count": null,
   "metadata": {
    "collapsed": true
   },
   "outputs": [],
   "source": []
  },
  {
   "cell_type": "code",
   "execution_count": null,
   "metadata": {
    "collapsed": true
   },
   "outputs": [],
   "source": []
  },
  {
   "cell_type": "markdown",
   "metadata": {
    "deletable": true,
    "editable": true,
    "heading_collapsed": true
   },
   "source": [
    "# Merging latest round of HITs into combined dataset "
   ]
  },
  {
   "cell_type": "markdown",
   "metadata": {
    "deletable": true,
    "editable": true,
    "heading_collapsed": true,
    "hidden": true
   },
   "source": [
    "## Load previously pickled results"
   ]
  },
  {
   "cell_type": "code",
   "execution_count": 383,
   "metadata": {
    "collapsed": false,
    "deletable": true,
    "editable": true,
    "hidden": true,
    "run_control": {
     "frozen": false,
     "read_only": false
    }
   },
   "outputs": [],
   "source": [
    "batch_number = 7\n",
    "\n",
    "with open('./store_hit_results_metadata/group_' + str(batch_number) + '/hit_info.pkl') as f:\n",
    "    r_hits_previous_batch = pickle.load(f)\n",
    "    \n",
    "with open('./store_hit_results_metadata/group_' + str(batch_number) + '/assignment_info.pkl') as f:\n",
    "    assignment_results_previous_batch = pickle.load(f)\n",
    "    \n",
    "# with open('./store_hit_results_metadata/group_' + str(batch_number) + '/raw_res.pkl') as f:\n",
    "#     raw_hit_results_previous_batch = pickle.load(f)"
   ]
  },
  {
   "cell_type": "code",
   "execution_count": 397,
   "metadata": {
    "collapsed": true,
    "deletable": true,
    "editable": true,
    "hidden": true,
    "run_control": {
     "frozen": false,
     "read_only": false
    }
   },
   "outputs": [],
   "source": [
    "# combined_results_batch = pd.read_pickle(data_pickled_dir + 'complete_df.pkl')\n",
    "# combined_consensus_batch = pd.read_pickle(data_pickled_dir + 'consensus_df.pkl')"
   ]
  },
  {
   "cell_type": "code",
   "execution_count": 405,
   "metadata": {
    "collapsed": false,
    "deletable": true,
    "editable": true,
    "hidden": true,
    "run_control": {
     "frozen": false,
     "read_only": false
    }
   },
   "outputs": [],
   "source": [
    "missing_hits = set(assignment_results_previous_batch.keys()).difference(assignment_results_current_batch.keys())\n",
    "missing_hits_assignments = {k: v for k, v in assignment_results_previous_batch.items() if k in missing_hits}"
   ]
  },
  {
   "cell_type": "markdown",
   "metadata": {
    "deletable": true,
    "editable": true,
    "heading_collapsed": true,
    "hidden": true
   },
   "source": [
    "## Load prior complete dataset if not in memory"
   ]
  },
  {
   "cell_type": "code",
   "execution_count": 2,
   "metadata": {
    "collapsed": true,
    "deletable": true,
    "editable": true,
    "hidden": true,
    "run_control": {
     "frozen": false,
     "read_only": false
    }
   },
   "outputs": [],
   "source": [
    "data_pickled_dir = './store_hit_results_metadata/group_latest_combined/' "
   ]
  },
  {
   "cell_type": "code",
   "execution_count": 3,
   "metadata": {
    "collapsed": false,
    "deletable": true,
    "editable": true,
    "hidden": true,
    "run_control": {
     "frozen": false,
     "read_only": false
    }
   },
   "outputs": [],
   "source": [
    "combined_results_df = pd.read_pickle(data_pickled_dir + 'complete_df.pkl')\n",
    "combined_consensus_df = pd.read_pickle(data_pickled_dir + 'consensus_df.pkl')\n",
    "combined_consensus_with_workerid_df = pd.read_pickle(data_pickled_dir + 'consensus_df_w_workers.pkl') "
   ]
  },
  {
   "cell_type": "markdown",
   "metadata": {
    "deletable": true,
    "editable": true,
    "heading_collapsed": true,
    "hidden": true
   },
   "source": [
    "## Updating full dataset"
   ]
  },
  {
   "cell_type": "code",
   "execution_count": 426,
   "metadata": {
    "collapsed": false,
    "deletable": true,
    "editable": true,
    "hidden": true,
    "run_control": {
     "frozen": false,
     "read_only": false
    }
   },
   "outputs": [],
   "source": [
    "combined_results_df = combined_results_df.append(results_df_previous_batch)\n",
    "combined_consensus_df = combined_consensus_df.append(consensus_prev)\n",
    "combined_consensus_with_workerid_df = combined_consensus_with_workerid_df.append(consensus_prevww)"
   ]
  },
  {
   "cell_type": "code",
   "execution_count": 4,
   "metadata": {
    "collapsed": true,
    "deletable": true,
    "editable": true,
    "hidden": true,
    "run_control": {
     "frozen": false,
     "read_only": false
    }
   },
   "outputs": [],
   "source": [
    "%%capture\n",
    "no_consensus_hits = combined_consensus_df[combined_consensus_df['category'] == 'No Consensus']"
   ]
  },
  {
   "cell_type": "markdown",
   "metadata": {
    "deletable": true,
    "editable": true,
    "heading_collapsed": true,
    "hidden": true
   },
   "source": [
    "## Working with full dataset"
   ]
  },
  {
   "cell_type": "markdown",
   "metadata": {
    "deletable": true,
    "editable": true,
    "heading_collapsed": true,
    "hidden": true
   },
   "source": [
    "### worker specific"
   ]
  },
  {
   "cell_type": "code",
   "execution_count": 961,
   "metadata": {
    "collapsed": true,
    "deletable": true,
    "editable": true,
    "hidden": true,
    "run_control": {
     "frozen": false,
     "read_only": false
    }
   },
   "outputs": [],
   "source": [
    "flaw_rate = len(no_consensus_hits) / len(combined_consensus_df)\n",
    "print 'text boxes without consensus are ' + '{0:0.2f}% '.format(flaw_rate * 100) + 'of the total'  "
   ]
  },
  {
   "cell_type": "code",
   "execution_count": 255,
   "metadata": {
    "collapsed": false,
    "deletable": true,
    "editable": true,
    "hidden": true,
    "run_control": {
     "frozen": false,
     "read_only": false
    }
   },
   "outputs": [],
   "source": [
    "workers_to_qualify = worker_quality_df[worker_quality_df['submitted'] > 100].sort_values('flaw_ratio', ascending= True).head(25).index.tolist()"
   ]
  },
  {
   "cell_type": "code",
   "execution_count": null,
   "metadata": {
    "collapsed": true,
    "deletable": true,
    "editable": true,
    "hidden": true,
    "run_control": {
     "frozen": false,
     "read_only": false
    }
   },
   "outputs": [],
   "source": [
    "workers_to_qualify"
   ]
  },
  {
   "cell_type": "code",
   "execution_count": 242,
   "metadata": {
    "collapsed": false,
    "deletable": true,
    "editable": true,
    "hidden": true,
    "run_control": {
     "frozen": false,
     "read_only": false
    }
   },
   "outputs": [
    {
     "data": {
      "text/html": [
       "<div>\n",
       "<table border=\"1\" class=\"dataframe\">\n",
       "  <thead>\n",
       "    <tr style=\"text-align: right;\">\n",
       "      <th></th>\n",
       "      <th>submitted</th>\n",
       "      <th>incorrect</th>\n",
       "      <th>flaw_ratio</th>\n",
       "    </tr>\n",
       "  </thead>\n",
       "  <tbody>\n",
       "    <tr>\n",
       "      <th>A2KM2RWXQV47CV</th>\n",
       "      <td>2900.0</td>\n",
       "      <td>2093.0</td>\n",
       "      <td>0.721724</td>\n",
       "    </tr>\n",
       "    <tr>\n",
       "      <th>A16EEWCUQK9LM2</th>\n",
       "      <td>1069.0</td>\n",
       "      <td>446.0</td>\n",
       "      <td>0.417212</td>\n",
       "    </tr>\n",
       "    <tr>\n",
       "      <th>A1QZHZZMO2TE51</th>\n",
       "      <td>582.0</td>\n",
       "      <td>215.0</td>\n",
       "      <td>0.369416</td>\n",
       "    </tr>\n",
       "    <tr>\n",
       "      <th>A2XJH3WC02RMXQ</th>\n",
       "      <td>134.0</td>\n",
       "      <td>87.0</td>\n",
       "      <td>0.649254</td>\n",
       "    </tr>\n",
       "    <tr>\n",
       "      <th>AQE7EQDM98KB7</th>\n",
       "      <td>154.0</td>\n",
       "      <td>47.0</td>\n",
       "      <td>0.305195</td>\n",
       "    </tr>\n",
       "    <tr>\n",
       "      <th>A18DRAESIN3E94</th>\n",
       "      <td>112.0</td>\n",
       "      <td>43.0</td>\n",
       "      <td>0.383929</td>\n",
       "    </tr>\n",
       "    <tr>\n",
       "      <th>A8TDOYC7FWWKR</th>\n",
       "      <td>67.0</td>\n",
       "      <td>36.0</td>\n",
       "      <td>0.537313</td>\n",
       "    </tr>\n",
       "    <tr>\n",
       "      <th>A9Y1HKUEOOEPM</th>\n",
       "      <td>49.0</td>\n",
       "      <td>35.0</td>\n",
       "      <td>0.714286</td>\n",
       "    </tr>\n",
       "    <tr>\n",
       "      <th>A1EGJ4WHHIU61V</th>\n",
       "      <td>45.0</td>\n",
       "      <td>24.0</td>\n",
       "      <td>0.533333</td>\n",
       "    </tr>\n",
       "    <tr>\n",
       "      <th>A1ESKJFDQUMBL4</th>\n",
       "      <td>68.0</td>\n",
       "      <td>23.0</td>\n",
       "      <td>0.338235</td>\n",
       "    </tr>\n",
       "    <tr>\n",
       "      <th>A24DYXCGZQUZUQ</th>\n",
       "      <td>31.0</td>\n",
       "      <td>23.0</td>\n",
       "      <td>0.741935</td>\n",
       "    </tr>\n",
       "    <tr>\n",
       "      <th>AGKUZPBBPK7X9</th>\n",
       "      <td>51.0</td>\n",
       "      <td>21.0</td>\n",
       "      <td>0.411765</td>\n",
       "    </tr>\n",
       "    <tr>\n",
       "      <th>A2V4PRG5UBNIX0</th>\n",
       "      <td>27.0</td>\n",
       "      <td>20.0</td>\n",
       "      <td>0.740741</td>\n",
       "    </tr>\n",
       "    <tr>\n",
       "      <th>A3VE5OH94HYHET</th>\n",
       "      <td>30.0</td>\n",
       "      <td>16.0</td>\n",
       "      <td>0.533333</td>\n",
       "    </tr>\n",
       "    <tr>\n",
       "      <th>AZE084MMZVEYT</th>\n",
       "      <td>26.0</td>\n",
       "      <td>15.0</td>\n",
       "      <td>0.576923</td>\n",
       "    </tr>\n",
       "  </tbody>\n",
       "</table>\n",
       "</div>"
      ],
      "text/plain": [
       "                submitted  incorrect  flaw_ratio\n",
       "A2KM2RWXQV47CV     2900.0     2093.0    0.721724\n",
       "A16EEWCUQK9LM2     1069.0      446.0    0.417212\n",
       "A1QZHZZMO2TE51      582.0      215.0    0.369416\n",
       "A2XJH3WC02RMXQ      134.0       87.0    0.649254\n",
       "AQE7EQDM98KB7       154.0       47.0    0.305195\n",
       "A18DRAESIN3E94      112.0       43.0    0.383929\n",
       "A8TDOYC7FWWKR        67.0       36.0    0.537313\n",
       "A9Y1HKUEOOEPM        49.0       35.0    0.714286\n",
       "A1EGJ4WHHIU61V       45.0       24.0    0.533333\n",
       "A1ESKJFDQUMBL4       68.0       23.0    0.338235\n",
       "A24DYXCGZQUZUQ       31.0       23.0    0.741935\n",
       "AGKUZPBBPK7X9        51.0       21.0    0.411765\n",
       "A2V4PRG5UBNIX0       27.0       20.0    0.740741\n",
       "A3VE5OH94HYHET       30.0       16.0    0.533333\n",
       "AZE084MMZVEYT        26.0       15.0    0.576923"
      ]
     },
     "execution_count": 242,
     "metadata": {},
     "output_type": "execute_result"
    }
   ],
   "source": [
    "bad_and_prolific_workers[:15]"
   ]
  },
  {
   "cell_type": "markdown",
   "metadata": {
    "deletable": true,
    "editable": true,
    "hidden": true
   },
   "source": [
    "workers who contacted me"
   ]
  },
  {
   "cell_type": "code",
   "execution_count": 256,
   "metadata": {
    "collapsed": true,
    "deletable": true,
    "editable": true,
    "hidden": true,
    "run_control": {
     "frozen": false,
     "read_only": false
    }
   },
   "outputs": [],
   "source": [
    "wrote_me = ['A3T8FDBJQV81FN',\n",
    "'A3UUH3632AI3ZX',\n",
    "'A2QVMCGDLTWV9',\n",
    "'A356GXVAYWN0DV',\n",
    "'A2V4PRG5UBNIX0',\n",
    "'A333VJ2K6O6R79']"
   ]
  },
  {
   "cell_type": "code",
   "execution_count": 258,
   "metadata": {
    "collapsed": false,
    "deletable": true,
    "editable": true,
    "hidden": true,
    "run_control": {
     "frozen": false,
     "read_only": false
    }
   },
   "outputs": [
    {
     "data": {
      "text/plain": [
       "{'A2V4PRG5UBNIX0'}"
      ]
     },
     "execution_count": 258,
     "metadata": {},
     "output_type": "execute_result"
    }
   ],
   "source": [
    "workers_to_ban = bad_and_prolific_workers[:5].index.tolist()\n",
    "set(bad_and_prolific_workers.index).intersection(set(wrote_me))"
   ]
  },
  {
   "cell_type": "code",
   "execution_count": 275,
   "metadata": {
    "collapsed": false,
    "deletable": true,
    "editable": true,
    "hidden": true,
    "run_control": {
     "frozen": false,
     "read_only": false
    }
   },
   "outputs": [
    {
     "data": {
      "text/plain": [
       "[u'A2KM2RWXQV47CV',\n",
       " u'A16EEWCUQK9LM2',\n",
       " u'A1QZHZZMO2TE51',\n",
       " u'A2XJH3WC02RMXQ',\n",
       " u'AQE7EQDM98KB7']"
      ]
     },
     "execution_count": 275,
     "metadata": {},
     "output_type": "execute_result"
    }
   ],
   "source": [
    "workers_to_ban"
   ]
  },
  {
   "cell_type": "code",
   "execution_count": 260,
   "metadata": {
    "collapsed": false,
    "deletable": true,
    "editable": true,
    "hidden": true,
    "run_control": {
     "frozen": false,
     "read_only": false
    }
   },
   "outputs": [
    {
     "data": {
      "text/html": [
       "<div>\n",
       "<table border=\"1\" class=\"dataframe\">\n",
       "  <thead>\n",
       "    <tr style=\"text-align: right;\">\n",
       "      <th></th>\n",
       "      <th>assignment_id</th>\n",
       "      <th>box_id</th>\n",
       "      <th>category</th>\n",
       "      <th>consensus_category</th>\n",
       "      <th>hit_id</th>\n",
       "      <th>page</th>\n",
       "      <th>worker_id</th>\n",
       "    </tr>\n",
       "  </thead>\n",
       "  <tbody>\n",
       "    <tr>\n",
       "      <th>8126</th>\n",
       "      <td>32AT8R96GLAPAZCI12L4EGDHN25US0</td>\n",
       "      <td>T1</td>\n",
       "      <td>unlabeled</td>\n",
       "      <td>unlabeled</td>\n",
       "      <td>302OLP89DZ8M1PBU899CBQ2L0VSAC8</td>\n",
       "      <td>Daily_Science_Grade_4_Evan_Moor_55.jpeg</td>\n",
       "      <td>A333VJ2K6O6R79</td>\n",
       "    </tr>\n",
       "    <tr>\n",
       "      <th>8144</th>\n",
       "      <td>3WJ1OXY92AHNC6JBHZY8XO1M45D8A9</td>\n",
       "      <td>T1</td>\n",
       "      <td>unlabeled</td>\n",
       "      <td>unlabeled</td>\n",
       "      <td>302OLP89DZ8M1PBU899CBQ2L0VSAC8</td>\n",
       "      <td>Daily_Science_Grade_4_Evan_Moor_55.jpeg</td>\n",
       "      <td>A36PFUM96J0ES6</td>\n",
       "    </tr>\n",
       "    <tr>\n",
       "      <th>8162</th>\n",
       "      <td>3N2BF7Y2VQVH7ITTH6IJJSPL15VMHP</td>\n",
       "      <td>T1</td>\n",
       "      <td>unlabeled</td>\n",
       "      <td>unlabeled</td>\n",
       "      <td>302OLP89DZ8M1PBU899CBQ2L0VSAC8</td>\n",
       "      <td>Daily_Science_Grade_4_Evan_Moor_55.jpeg</td>\n",
       "      <td>A2RSOGTSR83XKO</td>\n",
       "    </tr>\n",
       "    <tr>\n",
       "      <th>8131</th>\n",
       "      <td>32AT8R96GLAPAZCI12L4EGDHN25US0</td>\n",
       "      <td>T10</td>\n",
       "      <td>Discussion</td>\n",
       "      <td>Discussion</td>\n",
       "      <td>302OLP89DZ8M1PBU899CBQ2L0VSAC8</td>\n",
       "      <td>Daily_Science_Grade_4_Evan_Moor_55.jpeg</td>\n",
       "      <td>A333VJ2K6O6R79</td>\n",
       "    </tr>\n",
       "    <tr>\n",
       "      <th>8149</th>\n",
       "      <td>3WJ1OXY92AHNC6JBHZY8XO1M45D8A9</td>\n",
       "      <td>T10</td>\n",
       "      <td>Discussion</td>\n",
       "      <td>Discussion</td>\n",
       "      <td>302OLP89DZ8M1PBU899CBQ2L0VSAC8</td>\n",
       "      <td>Daily_Science_Grade_4_Evan_Moor_55.jpeg</td>\n",
       "      <td>A36PFUM96J0ES6</td>\n",
       "    </tr>\n",
       "  </tbody>\n",
       "</table>\n",
       "</div>"
      ],
      "text/plain": [
       "                       assignment_id box_id    category consensus_category  \\\n",
       "8126  32AT8R96GLAPAZCI12L4EGDHN25US0     T1   unlabeled          unlabeled   \n",
       "8144  3WJ1OXY92AHNC6JBHZY8XO1M45D8A9     T1   unlabeled          unlabeled   \n",
       "8162  3N2BF7Y2VQVH7ITTH6IJJSPL15VMHP     T1   unlabeled          unlabeled   \n",
       "8131  32AT8R96GLAPAZCI12L4EGDHN25US0    T10  Discussion         Discussion   \n",
       "8149  3WJ1OXY92AHNC6JBHZY8XO1M45D8A9    T10  Discussion         Discussion   \n",
       "\n",
       "                              hit_id                                     page  \\\n",
       "8126  302OLP89DZ8M1PBU899CBQ2L0VSAC8  Daily_Science_Grade_4_Evan_Moor_55.jpeg   \n",
       "8144  302OLP89DZ8M1PBU899CBQ2L0VSAC8  Daily_Science_Grade_4_Evan_Moor_55.jpeg   \n",
       "8162  302OLP89DZ8M1PBU899CBQ2L0VSAC8  Daily_Science_Grade_4_Evan_Moor_55.jpeg   \n",
       "8131  302OLP89DZ8M1PBU899CBQ2L0VSAC8  Daily_Science_Grade_4_Evan_Moor_55.jpeg   \n",
       "8149  302OLP89DZ8M1PBU899CBQ2L0VSAC8  Daily_Science_Grade_4_Evan_Moor_55.jpeg   \n",
       "\n",
       "           worker_id  \n",
       "8126  A333VJ2K6O6R79  \n",
       "8144  A36PFUM96J0ES6  \n",
       "8162  A2RSOGTSR83XKO  \n",
       "8131  A333VJ2K6O6R79  \n",
       "8149  A36PFUM96J0ES6  "
      ]
     },
     "execution_count": 260,
     "metadata": {},
     "output_type": "execute_result"
    }
   ],
   "source": [
    "combined_consensus_with_workerid_df.head()"
   ]
  },
  {
   "cell_type": "markdown",
   "metadata": {
    "deletable": true,
    "editable": true,
    "hidden": true
   },
   "source": [
    "After looking through the top few offenders, it's clear that \n",
    "\n",
    "1. the very worst intentionally submitted many blank pages\n",
    "\n",
    "2. the rest didn't read the directions very closely\n",
    "\n",
    "3. I'm comfortable rejecting the work of those with > 100 submissions\n",
    "\n",
    "4. I'll ban the worst 15 from future HITs\n"
   ]
  },
  {
   "cell_type": "markdown",
   "metadata": {
    "deletable": true,
    "editable": true,
    "hidden": true
   },
   "source": [
    "### Reviewing full dataset"
   ]
  },
  {
   "cell_type": "code",
   "execution_count": 94,
   "metadata": {
    "collapsed": true,
    "deletable": true,
    "editable": true,
    "hidden": true,
    "run_control": {
     "frozen": false,
     "read_only": false
    }
   },
   "outputs": [],
   "source": [
    "amt_util.write_results_df(combined_consensus_df, local_result_path)"
   ]
  },
  {
   "cell_type": "code",
   "execution_count": 4,
   "metadata": {
    "collapsed": true,
    "deletable": true,
    "editable": true,
    "hidden": true,
    "run_control": {
     "frozen": false,
     "read_only": false
    }
   },
   "outputs": [],
   "source": [
    "# all pages from the complete\n",
    "pages_to_review =pd.unique(combined_consensus_df['page'])"
   ]
  },
  {
   "cell_type": "code",
   "execution_count": 5,
   "metadata": {
    "collapsed": false,
    "deletable": true,
    "editable": true,
    "hidden": true,
    "run_control": {
     "frozen": false,
     "read_only": false
    }
   },
   "outputs": [
    {
     "data": {
      "text/plain": [
       "(16986, 4)"
      ]
     },
     "execution_count": 5,
     "metadata": {},
     "output_type": "execute_result"
    }
   ],
   "source": [
    "combined_consensus_df[combined_consensus_df['category'] == 'Question'].shape"
   ]
  },
  {
   "cell_type": "code",
   "execution_count": 6,
   "metadata": {
    "collapsed": false,
    "deletable": true,
    "editable": true,
    "hidden": true,
    "run_control": {
     "frozen": false,
     "read_only": false
    }
   },
   "outputs": [],
   "source": [
    "pages_to_review =pd.unique(combined_consensus_df[combined_consensus_df['category'] == 'Question']['page'])"
   ]
  },
  {
   "cell_type": "code",
   "execution_count": 7,
   "metadata": {
    "collapsed": true,
    "deletable": true,
    "editable": true,
    "hidden": true,
    "run_control": {
     "frozen": false,
     "read_only": false
    }
   },
   "outputs": [],
   "source": [
    "# all pages from the complete dataset with a no-consensus box\n",
    "# pages_to_review =pd.unique(no_consensus_hits['page'])"
   ]
  },
  {
   "cell_type": "code",
   "execution_count": 8,
   "metadata": {
    "collapsed": false,
    "deletable": true,
    "editable": true,
    "hidden": true,
    "run_control": {
     "frozen": false,
     "read_only": false
    }
   },
   "outputs": [
    {
     "name": "stdout",
     "output_type": "stream",
     "text": [
      "sampling 401 pages out of 1337\n"
     ]
    }
   ],
   "source": [
    "sampling_rate = 0.30\n",
    "sample_size = int(len(pages_to_review) * sampling_rate)\n",
    "sampled_pages_to_review = list(np.random.choice(pages_to_review, size= sample_size, replace=False))\n",
    "print 'sampling ' + str(sample_size) + ' pages out of ' + str(len(pages_to_review))\n",
    "to_review = ['start_seq'] + sampled_pages_to_review"
   ]
  },
  {
   "cell_type": "code",
   "execution_count": 39,
   "metadata": {
    "collapsed": false,
    "deletable": true,
    "editable": true,
    "hidden": true,
    "run_control": {
     "frozen": false,
     "read_only": false
    }
   },
   "outputs": [
    {
     "name": "stdout",
     "output_type": "stream",
     "text": [
      "posting to review tool, navigate to http://localhost:8080/ to see the sampled consensus results\n"
     ]
    }
   ],
   "source": [
    "overmerged_dir = 'labeled-annotations/'\n",
    "unmerged_dir = 'annotations_ws/'\n",
    "lessmerged_dir = 'lessmerged-annotations/'\n",
    "remerged_annotations  = 'test-remerged-annotations/'\n",
    "anno_dir = lessmerged_dir\n",
    "amt_util.review_results(to_review, anno_dir)\n",
    "print 'posting to review tool, navigate to http://localhost:8080/ to see the sampled consensus results'"
   ]
  },
  {
   "cell_type": "code",
   "execution_count": null,
   "metadata": {
    "collapsed": true,
    "deletable": true,
    "editable": true,
    "hidden": true,
    "run_control": {
     "frozen": false,
     "read_only": false
    }
   },
   "outputs": [],
   "source": [
    "# %%capture \n",
    "# # all pages from the latest batch with a no-consensus box\n",
    "\n",
    "# # suspect_subset = combined_results_df[combined_results_df['worker_id'].isin(bad_and_prolific_to_review[10:15])]\n",
    "# suspect_subset = combined_results_df[combined_results_df['worker_id'].isin(['A3VE5OH94HYHET'])]\n",
    "# amt_util.write_results_df(suspect_subset)\n",
    "# pages_to_review = pd.unique(suspect_subset['page'])"
   ]
  },
  {
   "cell_type": "markdown",
   "metadata": {
    "deletable": true,
    "editable": true,
    "hidden": true
   },
   "source": [
    "### Sanitizing results- questions marked as answers"
   ]
  },
  {
   "cell_type": "code",
   "execution_count": 67,
   "metadata": {
    "collapsed": true,
    "deletable": true,
    "editable": true,
    "hidden": true,
    "run_control": {
     "frozen": false,
     "read_only": false
    }
   },
   "outputs": [],
   "source": [
    "question_only_df = combined_consensus_df[combined_consensus_df['category'] == 'Question']"
   ]
  },
  {
   "cell_type": "code",
   "execution_count": 68,
   "metadata": {
    "collapsed": false,
    "deletable": true,
    "editable": true,
    "hidden": true,
    "run_control": {
     "frozen": false,
     "read_only": false
    }
   },
   "outputs": [
    {
     "data": {
      "text/plain": [
       "1337"
      ]
     },
     "execution_count": 68,
     "metadata": {},
     "output_type": "execute_result"
    }
   ],
   "source": [
    "pages_w_questions = pd.unique(question_only_df['page'])\n",
    "len(pages_w_questions)"
   ]
  },
  {
   "cell_type": "code",
   "execution_count": 69,
   "metadata": {
    "collapsed": false,
    "deletable": true,
    "editable": true,
    "hidden": true,
    "run_control": {
     "frozen": false,
     "read_only": false
    }
   },
   "outputs": [],
   "source": [
    "combined_df_question_pages_only = combined_consensus_df[combined_consensus_df['page'].isin(pages_w_questions)]"
   ]
  },
  {
   "cell_type": "code",
   "execution_count": 111,
   "metadata": {
    "collapsed": false,
    "deletable": true,
    "editable": true,
    "hidden": true,
    "run_control": {
     "frozen": false,
     "read_only": false
    }
   },
   "outputs": [],
   "source": [
    "combined_df_question_pages_only.to_pickle('pages_w_questions.pkl')"
   ]
  },
  {
   "cell_type": "code",
   "execution_count": 70,
   "metadata": {
    "collapsed": false,
    "deletable": true,
    "editable": true,
    "hidden": true,
    "run_control": {
     "frozen": false,
     "read_only": false
    }
   },
   "outputs": [],
   "source": [
    "question_pages_w_answers = pd.unique(combined_df_question_pages_only[combined_df_question_pages_only['category'] == 'Answer']['page'])"
   ]
  },
  {
   "cell_type": "code",
   "execution_count": 71,
   "metadata": {
    "collapsed": false,
    "deletable": true,
    "editable": true,
    "hidden": true,
    "run_control": {
     "frozen": false,
     "read_only": false
    }
   },
   "outputs": [
    {
     "data": {
      "text/plain": [
       "(49,)"
      ]
     },
     "execution_count": 71,
     "metadata": {},
     "output_type": "execute_result"
    }
   ],
   "source": [
    "question_pages_w_answers.shape"
   ]
  },
  {
   "cell_type": "code",
   "execution_count": 72,
   "metadata": {
    "collapsed": false,
    "deletable": true,
    "editable": true,
    "hidden": true,
    "run_control": {
     "frozen": false,
     "read_only": false
    }
   },
   "outputs": [],
   "source": [
    "incorrectly_marked_answers_df = combined_consensus_df[combined_consensus_df['page'].isin(question_pages_w_answers)]"
   ]
  },
  {
   "cell_type": "code",
   "execution_count": 73,
   "metadata": {
    "collapsed": false,
    "deletable": true,
    "editable": true,
    "hidden": true,
    "run_control": {
     "frozen": false,
     "read_only": false
    }
   },
   "outputs": [
    {
     "data": {
      "text/plain": [
       "(49,)"
      ]
     },
     "execution_count": 73,
     "metadata": {},
     "output_type": "execute_result"
    }
   ],
   "source": [
    "pd.unique(incorrectly_marked_answers_df['page']).shape"
   ]
  },
  {
   "cell_type": "code",
   "execution_count": 83,
   "metadata": {
    "collapsed": true,
    "deletable": true,
    "editable": true,
    "hidden": true,
    "run_control": {
     "frozen": false,
     "read_only": false
    }
   },
   "outputs": [],
   "source": [
    "to_correct_aq_df = combined_consensus_df[combined_consensus_df['page'].isin(incorrectly_marked_answers_df['page'])]"
   ]
  },
  {
   "cell_type": "code",
   "execution_count": 88,
   "metadata": {
    "collapsed": false,
    "deletable": true,
    "editable": true,
    "hidden": true,
    "run_control": {
     "frozen": false,
     "read_only": false
    }
   },
   "outputs": [],
   "source": [
    "corrected_aq_df = to_correct_aq_df.replace('Answer', 'Question')"
   ]
  },
  {
   "cell_type": "code",
   "execution_count": 105,
   "metadata": {
    "collapsed": false,
    "deletable": true,
    "editable": true,
    "hidden": true,
    "run_control": {
     "frozen": false,
     "read_only": false
    }
   },
   "outputs": [],
   "source": [
    "local_result_path='./ai2-vision-turk-data/textbook-annotation-test/corrected_raw_hit_results/'\n",
    "# local_result_path='./ai2-vision-turk-data/textbook-annotation-test/corrected_unmerged/'\n",
    "\n",
    "amt_util.write_results_df(corrected_aq_df, local_result_path)"
   ]
  },
  {
   "cell_type": "code",
   "execution_count": 106,
   "metadata": {
    "collapsed": false,
    "deletable": true,
    "editable": true,
    "hidden": true,
    "run_control": {
     "frozen": false,
     "read_only": false
    }
   },
   "outputs": [
    {
     "name": "stdout",
     "output_type": "stream",
     "text": [
      "sampling 49 pages out of 49\n"
     ]
    }
   ],
   "source": [
    "pages_to_review = pd.unique(corrected_aq_df['page'])\n",
    "sampling_rate = 1\n",
    "sample_size = int(len(pages_to_review) * sampling_rate)\n",
    "sampled_pages_to_review = list(np.random.choice(pages_to_review, size= sample_size, replace=False))\n",
    "print 'sampling ' + str(sample_size) + ' pages out of ' + str(len(pages_to_review))\n",
    "to_review = ['start_seq'] + sampled_pages_to_review"
   ]
  },
  {
   "cell_type": "code",
   "execution_count": 109,
   "metadata": {
    "collapsed": false,
    "deletable": true,
    "editable": true,
    "hidden": true,
    "run_control": {
     "frozen": false,
     "read_only": false
    }
   },
   "outputs": [
    {
     "name": "stdout",
     "output_type": "stream",
     "text": [
      "posting to review tool, navigate to http://localhost:8080/ to see the sampled consensus results\n"
     ]
    }
   ],
   "source": [
    "# anno_dir = 'corrected_unmerged/'\n",
    "anno_dir = 'test-remerged-annotations/'\n",
    "\n",
    "amt_util.review_results(to_review, anno_dir)\n",
    "print 'posting to review tool, navigate to http://localhost:8080/ to see the sampled consensus results'"
   ]
  },
  {
   "cell_type": "markdown",
   "metadata": {
    "deletable": true,
    "editable": true,
    "heading_collapsed": true
   },
   "source": [
    "# Worker analysis"
   ]
  },
  {
   "cell_type": "markdown",
   "metadata": {
    "deletable": true,
    "editable": true,
    "heading_collapsed": true,
    "hidden": true
   },
   "source": [
    "## Basic worker stats"
   ]
  },
  {
   "cell_type": "code",
   "execution_count": 393,
   "metadata": {
    "collapsed": false,
    "deletable": true,
    "editable": true,
    "hidden": true,
    "run_control": {
     "frozen": false,
     "read_only": false
    },
    "scrolled": true
   },
   "outputs": [
    {
     "name": "stdout",
     "output_type": "stream",
     "text": [
      "number of unique workers:\n"
     ]
    },
    {
     "data": {
      "text/plain": [
       "array([u'A1UCIW7WR7BTP6', u'AV08M1RKIW8P2', u'A3G2NE6QE5W5R',\n",
       "       u'A1YQH72YL8YOXN', u'A2CXEAMWU2SFV3', u'A2QSXP571QQRXN',\n",
       "       u'A4PRXDCEFH48W', u'A2X7BE2FSPUKCK', u'AR50UBGSH10FJ',\n",
       "       u'A3R6KO03P9QLNO', u'A19ISUEMCS9YNE', u'AC4QQ86BQSCJO',\n",
       "       u'A1WRE30O3ADISQ', u'AATL9DKBHXYW9', u'A1GF32JTYSL69K',\n",
       "       u'A1J8Y204VZNWQW', u'A3DKW5X4Y1Z6UD', u'A3CLWSYATO0L5C',\n",
       "       u'A19DYY1W1EO5EB', u'A1P3Z24Y6GRNVA', u'A1P3YDRJGXWPDT',\n",
       "       u'A2D3TM156X7Y61', u'A3QZMGTVA4VO44', u'A2AAFF98K5098F',\n",
       "       u'A2OW0W5J768MIQ', u'AYLD14EI9Q925', u'A3LFWM03CO0Y5',\n",
       "       u'A3FPQGM967TJER', u'A1HFKYFW5AG80B', u'A1WV72QNKLU22O',\n",
       "       u'A3UE49REX108ZE', u'A2LD0G04R6MNX7', u'A1IOMFFEKCWOIT',\n",
       "       u'A13166BUJ0H61J', u'A137K3V6O4ALWB', u'A3TMON68ZR4U84',\n",
       "       u'A5N6QK76RTR7R', u'AQ4SMD5QQ81C', u'AI31VA94GERPK',\n",
       "       u'A374KIAMAMZT59', u'AGPGCMNDSKZGT', u'AAHY5RYKZHXGZ',\n",
       "       u'A3PKDTMMBNJP4L', u'A8SNALQ3K98RB', u'A38NFX88VZDMJ3',\n",
       "       u'AA524FVH76YFT', u'AZFK7ZGWR5QTL', u'A23EZQCJD01EEW',\n",
       "       u'A3PWONT50E3RZ6', u'A2PXCBYT0GWR15', u'A2DXIQTO5DJSUH',\n",
       "       u'A49J9UWFFHOZ3', u'AYDW5LJOF8GF2', u'A2KLJKDG90K1PP',\n",
       "       u'A34ZESV383SM26', u'ABWQD0WI56TZ5', u'A2CTGZRSZSMJFL',\n",
       "       u'A32QJF67JMJFKX', u'AR2UAQ2TJ32MW', u'AM1HY736BY3Z8',\n",
       "       u'A1SX029RSF5OJZ', u'A1QP6651C4Q8NS', u'AC2C1HYKYACBW',\n",
       "       u'A35FOJ3K98V4DL', u'A2ICHMQ98TMKO1', u'A41IPBF6AJGI9',\n",
       "       u'A34DMFN7J8HBOK', u'A1GVLKQBFS5KZV', u'A25QEOBUEVJ750',\n",
       "       u'A30JJJ2M9K8F5A', u'A3I9WD8P9RBFHR', u'AYMA9R47TWK1H',\n",
       "       u'A38BNV13AV0S8Y', u'A6OPXUFETV2BY', u'A2S6I2ETXQKYXR',\n",
       "       u'A2Z7EG2D3CPBGW', u'A35K3CN8ZVW6JT', u'APG73KL3KV6DD',\n",
       "       u'A34YPIHZ3OCPPS', u'AK0HF3RUJC4D2', u'A299J4PKHAEU9H',\n",
       "       u'A2UTHXLZL8TNBK', u'A1C6O3EA81AIKO', u'A2WEU15HDE3DB5',\n",
       "       u'A8UQXT03W3FSF', u'AKH0WFAUBUKUS', u'A3N5RTXKN4I723',\n",
       "       u'A22JTMBADARX55', u'ACPRM38S920R1', u'A30TBBL5LC0ZNF',\n",
       "       u'A2B5O7JE1VXD81', u'AA7BTDZQNHW5', u'A11X5M6KPGSTTC',\n",
       "       u'A3PC0IDUS9FQA4', u'A2QD2WZIW2I62D', u'A1JPFAUTMWFCVM',\n",
       "       u'A4X84M4B0RUTB', u'AD4G0GILSZHLD', u'ADBU4HZB7CJAH',\n",
       "       u'A1S5GJLMYF7K2H', u'A2XM3FMWZSOO8G', u'A25DGWH6LI1YAU',\n",
       "       u'A2UMB419R9QW8L', u'A35Q49Y6EFBA7J', u'A2PJO3EEC6WELA',\n",
       "       u'A3B67I3A0YR2D', u'A36ABFLSNFESVJ', u'A1HZWAX6XQXIM7',\n",
       "       u'A2G6E3QK9I2WTJ', u'A1PATDO7IUOXA7', u'AZJYQJOIQSZ8H',\n",
       "       u'A2PBRI6BOYDN94', u'A28BX5XQI1CU6X', u'A14ZYPRK2O4WIM',\n",
       "       u'A30YUELTPFSF0T', u'A1G8BTWHODQDTL', u'A1K31OBX0MZU1N',\n",
       "       u'AJVDY8J5BZXH', u'A1LQRX3EN2W8U0', u'A3SGRHMVBSZEGT',\n",
       "       u'A1B4I8LO1BUHMU', u'A28VNF009Q5Z8B', u'A2TXQUIZTGSM19',\n",
       "       u'A26T0QJQ6I109E', u'ATWTO7HJXANCE', u'A9V77AP0V4RHF',\n",
       "       u'A3P7M9666KJCP', u'AFTX47T07GSFQ', u'A364YTD6GZ5FA',\n",
       "       u'A3QQJISUKWNE0', u'A1F4MP6YOIC1IV', u'A3CPPBPJ602FG1',\n",
       "       u'A1M7KOSKTADJ9'], dtype=object)"
      ]
     },
     "execution_count": 393,
     "metadata": {},
     "output_type": "execute_result"
    }
   ],
   "source": [
    "print 'number of unique workers:'\n",
    "pd.unique(raw_res_df['worker_id'])"
   ]
  },
  {
   "cell_type": "code",
   "execution_count": 384,
   "metadata": {
    "collapsed": true,
    "deletable": true,
    "editable": true,
    "hidden": true,
    "run_control": {
     "frozen": false,
     "read_only": false
    }
   },
   "outputs": [],
   "source": [
    "grouped_by_worker = raw_res_df.groupby('worker_id')"
   ]
  },
  {
   "cell_type": "code",
   "execution_count": 1716,
   "metadata": {
    "collapsed": true,
    "deletable": true,
    "editable": true,
    "hidden": true,
    "run_control": {
     "frozen": false,
     "read_only": false
    }
   },
   "outputs": [
    {
     "data": {
      "image/png": "[encoded data removed]",
      "text/plain": [
       "<matplotlib.figure.Figure at 0x1148ca890>"
      ]
     },
     "metadata": {},
     "output_type": "display_data"
    }
   ],
   "source": [
    "_ = results_df['worker_id'].value_counts().hist(bins= 30)"
   ]
  },
  {
   "cell_type": "markdown",
   "metadata": {
    "deletable": true,
    "editable": true,
    "hidden": true
   },
   "source": [
    "### HIT duration for pricing"
   ]
  },
  {
   "cell_type": "code",
   "execution_count": 406,
   "metadata": {
    "collapsed": false,
    "deletable": true,
    "editable": true,
    "hidden": true,
    "run_control": {
     "frozen": false,
     "read_only": false
    }
   },
   "outputs": [],
   "source": [
    "task_duration_seconds = []\n",
    "for hit_id, assignments in assignment_results_current_batch.items():\n",
    "    for assignment in assignments:\n",
    "        hit_duration = dt_parse.parse(assignment.SubmitTime) - dt_parse.parse(assignment.AcceptTime)\n",
    "        task_duration_seconds.append(hit_duration.seconds)"
   ]
  },
  {
   "cell_type": "code",
   "execution_count": 407,
   "metadata": {
    "collapsed": false,
    "deletable": true,
    "editable": true,
    "hidden": true,
    "run_control": {
     "frozen": false,
     "read_only": false
    }
   },
   "outputs": [],
   "source": [
    "task_duration_series = pd.Series(task_duration_seconds)"
   ]
  },
  {
   "cell_type": "code",
   "execution_count": 408,
   "metadata": {
    "collapsed": false,
    "deletable": true,
    "editable": true,
    "hidden": true,
    "run_control": {
     "frozen": false,
     "read_only": false
    },
    "scrolled": true
   },
   "outputs": [
    {
     "data": {
      "image/png": "[encoded data removed]",
      "text/plain": [
       "<matplotlib.figure.Figure at 0x1096fe810>"
      ]
     },
     "metadata": {},
     "output_type": "display_data"
    }
   ],
   "source": [
    "_ = task_duration_series.hist(bins=30, log=True)"
   ]
  },
  {
   "cell_type": "code",
   "execution_count": 409,
   "metadata": {
    "collapsed": false,
    "deletable": true,
    "editable": true,
    "hidden": true,
    "run_control": {
     "frozen": false,
     "read_only": false
    }
   },
   "outputs": [],
   "source": [
    "winsorized_durations = [t for t in task_duration_seconds if t < 300]\n",
    "w_duration_series = pd.Series(winsorized_durations)"
   ]
  },
  {
   "cell_type": "code",
   "execution_count": 410,
   "metadata": {
    "collapsed": false,
    "deletable": true,
    "editable": true,
    "hidden": true,
    "run_control": {
     "frozen": false,
     "read_only": false
    },
    "scrolled": true
   },
   "outputs": [
    {
     "data": {
      "image/png": "[encoded data removed]",
      "text/plain": [
       "<matplotlib.figure.Figure at 0x111ce7210>"
      ]
     },
     "metadata": {},
     "output_type": "display_data"
    }
   ],
   "source": [
    "_ = pd.Series(w_duration_series).hist(bins=60)\n",
    "plt.title('Worker task duration', fontsize=50, verticalalignment='bottom', color = b16_colors.b)\n",
    "plt.ylabel(\"Number of Workers\", fontsize=30, labelpad=10, color = b16_colors.b)\n",
    "plt.xlabel(\"Seconds Spent on HIT\", fontsize=30, labelpad=10, color = b16_colors.b)\n",
    "plt.tick_params(axis='x', which='major', labelsize=20)\n",
    "plt.tick_params(axis='y', which='major', labelsize=20)"
   ]
  },
  {
   "cell_type": "code",
   "execution_count": 438,
   "metadata": {
    "collapsed": false,
    "hidden": true
   },
   "outputs": [
    {
     "data": {
      "text/plain": [
       "0        32\n",
       "1        25\n",
       "2        25\n",
       "3        41\n",
       "4       102\n",
       "5        21\n",
       "6        24\n",
       "7       187\n",
       "8       247\n",
       "9        98\n",
       "10       14\n",
       "11       16\n",
       "12       27\n",
       "13       27\n",
       "14      214\n",
       "15        9\n",
       "16       24\n",
       "17       24\n",
       "18      140\n",
       "19       20\n",
       "20       98\n",
       "21      108\n",
       "22      158\n",
       "23      113\n",
       "24       50\n",
       "25       80\n",
       "26      127\n",
       "27       19\n",
       "28       18\n",
       "29       16\n",
       "       ... \n",
       "6538     26\n",
       "6539     45\n",
       "6540     90\n",
       "6541     19\n",
       "6542    100\n",
       "6543    162\n",
       "6544     53\n",
       "6545     64\n",
       "6546     52\n",
       "6547    116\n",
       "6548     77\n",
       "6549     99\n",
       "6550    171\n",
       "6551     45\n",
       "6552     15\n",
       "6553     23\n",
       "6554      7\n",
       "6555     46\n",
       "6556     44\n",
       "6557     23\n",
       "6558     15\n",
       "6559     46\n",
       "6560     59\n",
       "6561     94\n",
       "6562    150\n",
       "6563     34\n",
       "6564    132\n",
       "6565    160\n",
       "6566     24\n",
       "6567     81\n",
       "dtype: int64"
      ]
     },
     "execution_count": 438,
     "metadata": {},
     "output_type": "execute_result"
    }
   ],
   "source": [
    "pd.Series(w_duration_series)\n"
   ]
  },
  {
   "cell_type": "code",
   "execution_count": 411,
   "metadata": {
    "collapsed": false,
    "deletable": true,
    "editable": true,
    "hidden": true,
    "run_control": {
     "frozen": false,
     "read_only": false
    }
   },
   "outputs": [
    {
     "name": "stdout",
     "output_type": "stream",
     "text": [
      "duration mode= 23\n",
      "duration median= 47.0\n"
     ]
    }
   ],
   "source": [
    "print 'duration mode= ' + str(w_duration_series.mode().values[0])\n",
    "print 'duration median= ' + str(w_duration_series.median())"
   ]
  },
  {
   "cell_type": "markdown",
   "metadata": {
    "deletable": true,
    "editable": true,
    "hidden": true
   },
   "source": [
    "## Identifying high and low consensus workers"
   ]
  },
  {
   "cell_type": "code",
   "execution_count": 647,
   "metadata": {
    "collapsed": false,
    "deletable": true,
    "editable": true,
    "hidden": true,
    "run_control": {
     "frozen": false,
     "read_only": false
    },
    "scrolled": true
   },
   "outputs": [],
   "source": [
    "consensus_with_workerid_df_this_batch = amt_util.make_consensus_df_w_worker_id(latest_res_df, consensus_res_df)"
   ]
  },
  {
   "cell_type": "code",
   "execution_count": 651,
   "metadata": {
    "collapsed": false,
    "deletable": true,
    "editable": true,
    "hidden": true,
    "run_control": {
     "frozen": false,
     "read_only": false
    }
   },
   "outputs": [
    {
     "data": {
      "text/plain": [
       "78"
      ]
     },
     "execution_count": 651,
     "metadata": {},
     "output_type": "execute_result"
    }
   ],
   "source": [
    "len(pd.unique(worker_conflicts['worker_id']))"
   ]
  },
  {
   "cell_type": "code",
   "execution_count": 656,
   "metadata": {
    "collapsed": false,
    "deletable": true,
    "editable": true,
    "hidden": true,
    "run_control": {
     "frozen": false,
     "read_only": false
    }
   },
   "outputs": [
    {
     "data": {
      "text/html": [
       "<div>\n",
       "<table border=\"1\" class=\"dataframe\">\n",
       "  <thead>\n",
       "    <tr style=\"text-align: right;\">\n",
       "      <th></th>\n",
       "      <th>submitted</th>\n",
       "      <th>incorrect</th>\n",
       "      <th>flaw_ratio</th>\n",
       "    </tr>\n",
       "  </thead>\n",
       "  <tbody>\n",
       "    <tr>\n",
       "      <th>A2M5VW97GIYLHB</th>\n",
       "      <td>255.0</td>\n",
       "      <td>104.0</td>\n",
       "      <td>0.407843</td>\n",
       "    </tr>\n",
       "    <tr>\n",
       "      <th>A3PC0IDUS9FQA4</th>\n",
       "      <td>180.0</td>\n",
       "      <td>67.0</td>\n",
       "      <td>0.372222</td>\n",
       "    </tr>\n",
       "    <tr>\n",
       "      <th>A41IPBF6AJGI9</th>\n",
       "      <td>689.0</td>\n",
       "      <td>255.0</td>\n",
       "      <td>0.370102</td>\n",
       "    </tr>\n",
       "    <tr>\n",
       "      <th>A2U8PL0H9LR2BP</th>\n",
       "      <td>434.0</td>\n",
       "      <td>159.0</td>\n",
       "      <td>0.366359</td>\n",
       "    </tr>\n",
       "    <tr>\n",
       "      <th>A399B3HHN9ZENF</th>\n",
       "      <td>36.0</td>\n",
       "      <td>13.0</td>\n",
       "      <td>0.361111</td>\n",
       "    </tr>\n",
       "    <tr>\n",
       "      <th>A1JAW8YSR4LM8N</th>\n",
       "      <td>64.0</td>\n",
       "      <td>22.0</td>\n",
       "      <td>0.343750</td>\n",
       "    </tr>\n",
       "    <tr>\n",
       "      <th>A25OEVVN0293PO</th>\n",
       "      <td>253.0</td>\n",
       "      <td>82.0</td>\n",
       "      <td>0.324111</td>\n",
       "    </tr>\n",
       "    <tr>\n",
       "      <th>A1WV72QNKLU22O</th>\n",
       "      <td>1664.0</td>\n",
       "      <td>533.0</td>\n",
       "      <td>0.320312</td>\n",
       "    </tr>\n",
       "    <tr>\n",
       "      <th>A3DKW5X4Y1Z6UD</th>\n",
       "      <td>13.0</td>\n",
       "      <td>4.0</td>\n",
       "      <td>0.307692</td>\n",
       "    </tr>\n",
       "    <tr>\n",
       "      <th>A3LFWM03CO0Y5</th>\n",
       "      <td>52.0</td>\n",
       "      <td>15.0</td>\n",
       "      <td>0.288462</td>\n",
       "    </tr>\n",
       "  </tbody>\n",
       "</table>\n",
       "</div>"
      ],
      "text/plain": [
       "                submitted  incorrect  flaw_ratio\n",
       "A2M5VW97GIYLHB      255.0      104.0    0.407843\n",
       "A3PC0IDUS9FQA4      180.0       67.0    0.372222\n",
       "A41IPBF6AJGI9       689.0      255.0    0.370102\n",
       "A2U8PL0H9LR2BP      434.0      159.0    0.366359\n",
       "A399B3HHN9ZENF       36.0       13.0    0.361111\n",
       "A1JAW8YSR4LM8N       64.0       22.0    0.343750\n",
       "A25OEVVN0293PO      253.0       82.0    0.324111\n",
       "A1WV72QNKLU22O     1664.0      533.0    0.320312\n",
       "A3DKW5X4Y1Z6UD       13.0        4.0    0.307692\n",
       "A3LFWM03CO0Y5        52.0       15.0    0.288462"
      ]
     },
     "execution_count": 656,
     "metadata": {},
     "output_type": "execute_result"
    }
   ],
   "source": [
    "worker_conflicts = consensus_with_workerid_df_this_batch[consensus_with_workerid_df_this_batch['category_x'] != consensus_with_workerid_df_this_batch['category_y']]\n",
    "all_worker_counts = latest_res_df['worker_id'].value_counts()\n",
    "bad_worker_counts = worker_conflicts['worker_id'].value_counts()\n",
    "worker_quality_df = pd.DataFrame([all_worker_counts, bad_worker_counts]).T\n",
    "worker_quality_df.columns=['submitted', 'incorrect']\n",
    "worker_quality_df['flaw_ratio'] = worker_quality_df['incorrect']/worker_quality_df['submitted']\n",
    "\n",
    "good_workers = worker_quality_df.sort_values('flaw_ratio', ascending= True).index.tolist()\n",
    "\n",
    "suspect_workers = worker_quality_df.sort_values('flaw_ratio', ascending= False).index.tolist()\n",
    "\n",
    "worker_quality_df.sort_values('flaw_ratio', ascending= False).head(10)"
   ]
  },
  {
   "cell_type": "markdown",
   "metadata": {
    "deletable": true,
    "editable": true,
    "hidden": true
   },
   "source": [
    "I became concerned that I missed the perfect performers, but as I suspected perfect workers only did 1-2 HITs at most"
   ]
  },
  {
   "cell_type": "code",
   "execution_count": 657,
   "metadata": {
    "collapsed": false,
    "hidden": true
   },
   "outputs": [
    {
     "data": {
      "text/plain": [
       "Index([u'A2CXEAMWU2SFV3', u'A3G2NE6QE5W5R', u'A1IOMFFEKCWOIT',\n",
       "       u'A19ISUEMCS9YNE', u'A3R6KO03P9QLNO', u'A34QZDSTKZ3JO9',\n",
       "       u'A2LD0G04R6MNX7', u'A2P0QCBK21MA3F', u'A2DXIQTO5DJSUH',\n",
       "       u'A356GXVAYWN0DV'],\n",
       "      dtype='object')"
      ]
     },
     "execution_count": 657,
     "metadata": {},
     "output_type": "execute_result"
    }
   ],
   "source": [
    "pd.DataFrame(top_10_prolific).index"
   ]
  },
  {
   "cell_type": "code",
   "execution_count": 658,
   "metadata": {
    "collapsed": false,
    "hidden": true
   },
   "outputs": [
    {
     "data": {
      "text/html": [
       "<div>\n",
       "<table border=\"1\" class=\"dataframe\">\n",
       "  <thead>\n",
       "    <tr style=\"text-align: right;\">\n",
       "      <th></th>\n",
       "      <th>submitted</th>\n",
       "      <th>incorrect</th>\n",
       "      <th>flaw_ratio</th>\n",
       "      <th>worker_id</th>\n",
       "    </tr>\n",
       "  </thead>\n",
       "  <tbody>\n",
       "    <tr>\n",
       "      <th>A2CXEAMWU2SFV3</th>\n",
       "      <td>20015.0</td>\n",
       "      <td>3058.0</td>\n",
       "      <td>0.152785</td>\n",
       "      <td>20015</td>\n",
       "    </tr>\n",
       "    <tr>\n",
       "      <th>A3G2NE6QE5W5R</th>\n",
       "      <td>15888.0</td>\n",
       "      <td>2254.0</td>\n",
       "      <td>0.141868</td>\n",
       "      <td>15888</td>\n",
       "    </tr>\n",
       "    <tr>\n",
       "      <th>A1IOMFFEKCWOIT</th>\n",
       "      <td>13050.0</td>\n",
       "      <td>2080.0</td>\n",
       "      <td>0.159387</td>\n",
       "      <td>13050</td>\n",
       "    </tr>\n",
       "    <tr>\n",
       "      <th>A19ISUEMCS9YNE</th>\n",
       "      <td>8938.0</td>\n",
       "      <td>1125.0</td>\n",
       "      <td>0.125867</td>\n",
       "      <td>8938</td>\n",
       "    </tr>\n",
       "    <tr>\n",
       "      <th>A3R6KO03P9QLNO</th>\n",
       "      <td>6196.0</td>\n",
       "      <td>1055.0</td>\n",
       "      <td>0.170271</td>\n",
       "      <td>6196</td>\n",
       "    </tr>\n",
       "    <tr>\n",
       "      <th>A34QZDSTKZ3JO9</th>\n",
       "      <td>4461.0</td>\n",
       "      <td>612.0</td>\n",
       "      <td>0.137189</td>\n",
       "      <td>4461</td>\n",
       "    </tr>\n",
       "    <tr>\n",
       "      <th>A2LD0G04R6MNX7</th>\n",
       "      <td>4089.0</td>\n",
       "      <td>803.0</td>\n",
       "      <td>0.196381</td>\n",
       "      <td>4089</td>\n",
       "    </tr>\n",
       "    <tr>\n",
       "      <th>A2P0QCBK21MA3F</th>\n",
       "      <td>3975.0</td>\n",
       "      <td>787.0</td>\n",
       "      <td>0.197987</td>\n",
       "      <td>3975</td>\n",
       "    </tr>\n",
       "    <tr>\n",
       "      <th>A2DXIQTO5DJSUH</th>\n",
       "      <td>3675.0</td>\n",
       "      <td>491.0</td>\n",
       "      <td>0.133605</td>\n",
       "      <td>3675</td>\n",
       "    </tr>\n",
       "    <tr>\n",
       "      <th>A356GXVAYWN0DV</th>\n",
       "      <td>3569.0</td>\n",
       "      <td>429.0</td>\n",
       "      <td>0.120202</td>\n",
       "      <td>3569</td>\n",
       "    </tr>\n",
       "  </tbody>\n",
       "</table>\n",
       "</div>"
      ],
      "text/plain": [
       "                submitted  incorrect  flaw_ratio  worker_id\n",
       "A2CXEAMWU2SFV3    20015.0     3058.0    0.152785      20015\n",
       "A3G2NE6QE5W5R     15888.0     2254.0    0.141868      15888\n",
       "A1IOMFFEKCWOIT    13050.0     2080.0    0.159387      13050\n",
       "A19ISUEMCS9YNE     8938.0     1125.0    0.125867       8938\n",
       "A3R6KO03P9QLNO     6196.0     1055.0    0.170271       6196\n",
       "A34QZDSTKZ3JO9     4461.0      612.0    0.137189       4461\n",
       "A2LD0G04R6MNX7     4089.0      803.0    0.196381       4089\n",
       "A2P0QCBK21MA3F     3975.0      787.0    0.197987       3975\n",
       "A2DXIQTO5DJSUH     3675.0      491.0    0.133605       3675\n",
       "A356GXVAYWN0DV     3569.0      429.0    0.120202       3569"
      ]
     },
     "execution_count": 658,
     "metadata": {},
     "output_type": "execute_result"
    }
   ],
   "source": [
    "worker_quality_df.merge(pd.DataFrame(top_10_prolific), left_index=True, right_index=True)"
   ]
  },
  {
   "cell_type": "code",
   "execution_count": 716,
   "metadata": {
    "collapsed": false,
    "hidden": true
   },
   "outputs": [],
   "source": [
    "all_worker_counts = raw_res_df['worker_id'].value_counts()\n",
    "top_10_prolific = all_worker_counts[:10]"
   ]
  },
  {
   "cell_type": "code",
   "execution_count": 717,
   "metadata": {
    "collapsed": false,
    "hidden": true
   },
   "outputs": [],
   "source": [
    "grouped_by_worker = raw_res_df.groupby('worker_id')\n",
    "\n",
    "worker_attached_counts = pd.DataFrame(grouped_by_worker['category'].agg(lambda x: sum(x == 'Attached') / len(x)))\n",
    "\n",
    "worker_answers_and_fracts = worker_attached_counts.merge(pd.DataFrame(all_worker_counts), left_index=True, right_index=True)\n",
    "worker_answers_and_fracts.columns = ['fract_attached', 'submissions']"
   ]
  },
  {
   "cell_type": "code",
   "execution_count": 719,
   "metadata": {
    "collapsed": false,
    "hidden": true
   },
   "outputs": [],
   "source": [
    "potentially_good_workers = worker_answers_and_fracts[(worker_answers_and_fracts['fract_attached'] < 0.2) & (worker_answers_and_fracts['fract_attached'] > 0.05 )].index.tolist()"
   ]
  },
  {
   "cell_type": "code",
   "execution_count": 720,
   "metadata": {
    "collapsed": false,
    "hidden": true
   },
   "outputs": [
    {
     "data": {
      "text/plain": [
       "74"
      ]
     },
     "execution_count": 720,
     "metadata": {},
     "output_type": "execute_result"
    }
   ],
   "source": [
    "len(potentially_good_workers)"
   ]
  },
  {
   "cell_type": "code",
   "execution_count": 725,
   "metadata": {
    "collapsed": false,
    "hidden": true
   },
   "outputs": [],
   "source": [
    "with open('good_workers.txt', 'w') as f:\n",
    "    with_nl = map(lambda x: x + '\\n', potentially_good_workers)\n",
    "    f.writelines(with_nl)"
   ]
  },
  {
   "cell_type": "code",
   "execution_count": 679,
   "metadata": {
    "collapsed": false,
    "hidden": true
   },
   "outputs": [
    {
     "data": {
      "text/html": [
       "<div>\n",
       "<table border=\"1\" class=\"dataframe\">\n",
       "  <thead>\n",
       "    <tr style=\"text-align: right;\">\n",
       "      <th></th>\n",
       "      <th>fract_attached</th>\n",
       "      <th>submissions</th>\n",
       "    </tr>\n",
       "  </thead>\n",
       "  <tbody>\n",
       "    <tr>\n",
       "      <th>A19ISUEMCS9YNE</th>\n",
       "      <td>0.078346</td>\n",
       "      <td>8938</td>\n",
       "    </tr>\n",
       "    <tr>\n",
       "      <th>A34QZDSTKZ3JO9</th>\n",
       "      <td>0.137637</td>\n",
       "      <td>4461</td>\n",
       "    </tr>\n",
       "    <tr>\n",
       "      <th>A2DXIQTO5DJSUH</th>\n",
       "      <td>0.141509</td>\n",
       "      <td>3675</td>\n",
       "    </tr>\n",
       "    <tr>\n",
       "      <th>A356GXVAYWN0DV</th>\n",
       "      <td>0.113477</td>\n",
       "      <td>3569</td>\n",
       "    </tr>\n",
       "    <tr>\n",
       "      <th>A3BVPQFBYGWJWX</th>\n",
       "      <td>0.109097</td>\n",
       "      <td>2759</td>\n",
       "    </tr>\n",
       "    <tr>\n",
       "      <th>A39ZQZ2T5Z7JSB</th>\n",
       "      <td>0.189893</td>\n",
       "      <td>2533</td>\n",
       "    </tr>\n",
       "    <tr>\n",
       "      <th>A38NFX88VZDMJ3</th>\n",
       "      <td>0.159273</td>\n",
       "      <td>2473</td>\n",
       "    </tr>\n",
       "    <tr>\n",
       "      <th>A10VZBZZUJB632</th>\n",
       "      <td>0.161823</td>\n",
       "      <td>1514</td>\n",
       "    </tr>\n",
       "    <tr>\n",
       "      <th>A311JUG8NMVCGU</th>\n",
       "      <td>0.158741</td>\n",
       "      <td>1446</td>\n",
       "    </tr>\n",
       "    <tr>\n",
       "      <th>A3EQYMOLG133QS</th>\n",
       "      <td>0.172797</td>\n",
       "      <td>1169</td>\n",
       "    </tr>\n",
       "    <tr>\n",
       "      <th>A1RC17FXGMK03J</th>\n",
       "      <td>0.132799</td>\n",
       "      <td>1122</td>\n",
       "    </tr>\n",
       "    <tr>\n",
       "      <th>A2LHZ0LT9BOG0U</th>\n",
       "      <td>0.162186</td>\n",
       "      <td>1116</td>\n",
       "    </tr>\n",
       "    <tr>\n",
       "      <th>A3D0B5IL447G74</th>\n",
       "      <td>0.181818</td>\n",
       "      <td>1078</td>\n",
       "    </tr>\n",
       "    <tr>\n",
       "      <th>A1HZWAX6XQXIM7</th>\n",
       "      <td>0.102990</td>\n",
       "      <td>884</td>\n",
       "    </tr>\n",
       "    <tr>\n",
       "      <th>A2NDNGDNAP9Y4S</th>\n",
       "      <td>0.073529</td>\n",
       "      <td>748</td>\n",
       "    </tr>\n",
       "    <tr>\n",
       "      <th>A19DYY1W1EO5EB</th>\n",
       "      <td>0.104289</td>\n",
       "      <td>633</td>\n",
       "    </tr>\n",
       "    <tr>\n",
       "      <th>A11YAGDS1WDZ72</th>\n",
       "      <td>0.098566</td>\n",
       "      <td>558</td>\n",
       "    </tr>\n",
       "    <tr>\n",
       "      <th>A1P3Z24Y6GRNVA</th>\n",
       "      <td>0.108025</td>\n",
       "      <td>482</td>\n",
       "    </tr>\n",
       "    <tr>\n",
       "      <th>A1SISILL2H1LOX</th>\n",
       "      <td>0.131841</td>\n",
       "      <td>402</td>\n",
       "    </tr>\n",
       "    <tr>\n",
       "      <th>A3PWONT50E3RZ6</th>\n",
       "      <td>0.110569</td>\n",
       "      <td>314</td>\n",
       "    </tr>\n",
       "  </tbody>\n",
       "</table>\n",
       "</div>"
      ],
      "text/plain": [
       "                fract_attached  submissions\n",
       "A19ISUEMCS9YNE        0.078346         8938\n",
       "A34QZDSTKZ3JO9        0.137637         4461\n",
       "A2DXIQTO5DJSUH        0.141509         3675\n",
       "A356GXVAYWN0DV        0.113477         3569\n",
       "A3BVPQFBYGWJWX        0.109097         2759\n",
       "A39ZQZ2T5Z7JSB        0.189893         2533\n",
       "A38NFX88VZDMJ3        0.159273         2473\n",
       "A10VZBZZUJB632        0.161823         1514\n",
       "A311JUG8NMVCGU        0.158741         1446\n",
       "A3EQYMOLG133QS        0.172797         1169\n",
       "A1RC17FXGMK03J        0.132799         1122\n",
       "A2LHZ0LT9BOG0U        0.162186         1116\n",
       "A3D0B5IL447G74        0.181818         1078\n",
       "A1HZWAX6XQXIM7        0.102990          884\n",
       "A2NDNGDNAP9Y4S        0.073529          748\n",
       "A19DYY1W1EO5EB        0.104289          633\n",
       "A11YAGDS1WDZ72        0.098566          558\n",
       "A1P3Z24Y6GRNVA        0.108025          482\n",
       "A1SISILL2H1LOX        0.131841          402\n",
       "A3PWONT50E3RZ6        0.110569          314"
      ]
     },
     "execution_count": 679,
     "metadata": {},
     "output_type": "execute_result"
    }
   ],
   "source": [
    "\n",
    "worker_answers_and_fracts[worker_answers_and_fracts['fract_attached'] < 0.2].head(20)"
   ]
  },
  {
   "cell_type": "code",
   "execution_count": 952,
   "metadata": {
    "collapsed": false,
    "hidden": true,
    "scrolled": true
   },
   "outputs": [
    {
     "data": {
      "text/plain": [
       "36"
      ]
     },
     "execution_count": 952,
     "metadata": {},
     "output_type": "execute_result"
    }
   ],
   "source": [
    "potentially_reject_workers = set(worker_answers_and_fracts[worker_answers_and_fracts['fract_attached'] > 0.5].index)\n",
    "len(potentially_reject_workers)"
   ]
  },
  {
   "cell_type": "code",
   "execution_count": 839,
   "metadata": {
    "collapsed": false,
    "hidden": true
   },
   "outputs": [
    {
     "data": {
      "text/plain": [
       "(190, 2)"
      ]
     },
     "execution_count": 839,
     "metadata": {},
     "output_type": "execute_result"
    }
   ],
   "source": [
    "worker_answers_and_fracts.shape"
   ]
  },
  {
   "cell_type": "code",
   "execution_count": 883,
   "metadata": {
    "collapsed": false,
    "hidden": true
   },
   "outputs": [
    {
     "data": {
      "text/plain": [
       "140"
      ]
     },
     "execution_count": 883,
     "metadata": {},
     "output_type": "execute_result"
    }
   ],
   "source": [
    "len(potentially_reject_workers.union(set(all_good_workers)))"
   ]
  },
  {
   "cell_type": "code",
   "execution_count": null,
   "metadata": {
    "collapsed": true,
    "hidden": true
   },
   "outputs": [],
   "source": [
    "raw_res_df['worker_id']"
   ]
  },
  {
   "cell_type": "code",
   "execution_count": 926,
   "metadata": {
    "collapsed": false,
    "hidden": true
   },
   "outputs": [],
   "source": [
    "neither_good_nor_bad_workers = raw_res_df[~raw_res_df['worker_id'].isin(potentially_reject_workers.union(set(all_good_workers)))]"
   ]
  },
  {
   "cell_type": "code",
   "execution_count": 927,
   "metadata": {
    "collapsed": false,
    "hidden": true
   },
   "outputs": [
    {
     "data": {
      "text/plain": [
       "(8732,)"
      ]
     },
     "execution_count": 927,
     "metadata": {},
     "output_type": "execute_result"
    }
   ],
   "source": [
    "pd.unique(neither_good_nor_bad_workers['assignment_id']).shape"
   ]
  },
  {
   "cell_type": "code",
   "execution_count": 928,
   "metadata": {
    "collapsed": false,
    "hidden": true
   },
   "outputs": [
    {
     "data": {
      "text/plain": [
       "(13196,)"
      ]
     },
     "execution_count": 928,
     "metadata": {},
     "output_type": "execute_result"
    }
   ],
   "source": [
    "pd.unique(raw_res_df['assignment_id']).shape"
   ]
  },
  {
   "cell_type": "code",
   "execution_count": 954,
   "metadata": {
    "collapsed": true,
    "hidden": true
   },
   "outputs": [],
   "source": [
    "bad_workers = raw_res_df[raw_res_df['worker_id'].isin(potentially_reject_workers)]"
   ]
  },
  {
   "cell_type": "code",
   "execution_count": 955,
   "metadata": {
    "collapsed": false,
    "hidden": true
   },
   "outputs": [
    {
     "data": {
      "text/plain": [
       "33.39"
      ]
     },
     "execution_count": 955,
     "metadata": {},
     "output_type": "execute_result"
    }
   ],
   "source": [
    "pd.unique(bad_workers['assignment_id']).shape[0] * 0.03"
   ]
  },
  {
   "cell_type": "code",
   "execution_count": null,
   "metadata": {
    "collapsed": true,
    "hidden": true
   },
   "outputs": [],
   "source": []
  },
  {
   "cell_type": "code",
   "execution_count": 906,
   "metadata": {
    "collapsed": false,
    "hidden": true,
    "scrolled": true
   },
   "outputs": [
    {
     "data": {
      "text/plain": [
       "0         A2CXEAMWU2SFV3\n",
       "1         A2CXEAMWU2SFV3\n",
       "2         A2CXEAMWU2SFV3\n",
       "3         A2CXEAMWU2SFV3\n",
       "4         A2CXEAMWU2SFV3\n",
       "5         A2CXEAMWU2SFV3\n",
       "6         A2CXEAMWU2SFV3\n",
       "7         A2CXEAMWU2SFV3\n",
       "8         A2CXEAMWU2SFV3\n",
       "9         A2CXEAMWU2SFV3\n",
       "10        A2CXEAMWU2SFV3\n",
       "11        A2CXEAMWU2SFV3\n",
       "12        A2CXEAMWU2SFV3\n",
       "13        A2CXEAMWU2SFV3\n",
       "14        A2CXEAMWU2SFV3\n",
       "15        A2CXEAMWU2SFV3\n",
       "16        A3R6KO03P9QLNO\n",
       "17        A3R6KO03P9QLNO\n",
       "18        A3R6KO03P9QLNO\n",
       "19        A3R6KO03P9QLNO\n",
       "20        A3R6KO03P9QLNO\n",
       "21        A3R6KO03P9QLNO\n",
       "22        A3R6KO03P9QLNO\n",
       "23        A3R6KO03P9QLNO\n",
       "24        A3R6KO03P9QLNO\n",
       "25        A3R6KO03P9QLNO\n",
       "26        A3R6KO03P9QLNO\n",
       "27        A3R6KO03P9QLNO\n",
       "28        A3R6KO03P9QLNO\n",
       "29        A3R6KO03P9QLNO\n",
       "               ...      \n",
       "273906     A4PRXDCEFH48W\n",
       "273907     A4PRXDCEFH48W\n",
       "273908     A4PRXDCEFH48W\n",
       "273909     A4PRXDCEFH48W\n",
       "273910     A4PRXDCEFH48W\n",
       "273911     A4PRXDCEFH48W\n",
       "273912     A4PRXDCEFH48W\n",
       "273913     A4PRXDCEFH48W\n",
       "273914     A4PRXDCEFH48W\n",
       "273915    A2CXEAMWU2SFV3\n",
       "273916    A2CXEAMWU2SFV3\n",
       "273917    A2CXEAMWU2SFV3\n",
       "273918    A2CXEAMWU2SFV3\n",
       "273919    A2CXEAMWU2SFV3\n",
       "273920    A2CXEAMWU2SFV3\n",
       "273921    A2CXEAMWU2SFV3\n",
       "273922     A3G2NE6QE5W5R\n",
       "273923     A3G2NE6QE5W5R\n",
       "273924     A3G2NE6QE5W5R\n",
       "273925     A3G2NE6QE5W5R\n",
       "273926     A3G2NE6QE5W5R\n",
       "273927     A3G2NE6QE5W5R\n",
       "273928     A3G2NE6QE5W5R\n",
       "273929    A1IOMFFEKCWOIT\n",
       "273930    A1IOMFFEKCWOIT\n",
       "273931    A1IOMFFEKCWOIT\n",
       "273932    A1IOMFFEKCWOIT\n",
       "273933    A1IOMFFEKCWOIT\n",
       "273934    A1IOMFFEKCWOIT\n",
       "273935    A1IOMFFEKCWOIT\n",
       "Name: worker_id, dtype: object"
      ]
     },
     "execution_count": 906,
     "metadata": {},
     "output_type": "execute_result"
    }
   ],
   "source": [
    "raw_res_df['worker_id']"
   ]
  },
  {
   "cell_type": "code",
   "execution_count": null,
   "metadata": {
    "collapsed": true,
    "hidden": true
   },
   "outputs": [],
   "source": []
  },
  {
   "cell_type": "code",
   "execution_count": null,
   "metadata": {
    "collapsed": true,
    "hidden": true
   },
   "outputs": [],
   "source": []
  },
  {
   "cell_type": "code",
   "execution_count": null,
   "metadata": {
    "collapsed": true,
    "hidden": true
   },
   "outputs": [],
   "source": []
  },
  {
   "cell_type": "code",
   "execution_count": null,
   "metadata": {
    "collapsed": true,
    "hidden": true
   },
   "outputs": [],
   "source": []
  },
  {
   "cell_type": "markdown",
   "metadata": {
    "deletable": true,
    "editable": true,
    "heading_collapsed": true,
    "hidden": true
   },
   "source": [
    "## Messaging workers"
   ]
  },
  {
   "cell_type": "code",
   "execution_count": 828,
   "metadata": {
    "collapsed": true,
    "deletable": true,
    "editable": true,
    "hidden": true,
    "run_control": {
     "frozen": false,
     "read_only": false
    }
   },
   "outputs": [],
   "source": [
    "subject = \"more Attached object HITs\"\n",
    "message = \"\"\"\n",
    "Hello everyone, \n",
    "\n",
    "Thanks for participating in my last set of HITs. I've now restricted these to the top performers on previous tasks. You should have gotten an email notification about reveiving the qualification.\n",
    "I've submitted another group of HITs with a higher value to reflect this, and with more to follow in the next few days. \n",
    "\n",
    "I'll try to answer questions I've received (sorry, I can't answer them individually):\n",
    "\n",
    "If you're getting this message, you're finding about the right number of attached objects in the image. Just to say again, \n",
    "an attached object should require breaking some kind of connection (nails, bolts, screws, glue) to move it. This includes softer connections like a picture hanging on a wall, \n",
    "but not an object that only touches another. If a particular object is unclear, please leave it unmarked.\n",
    "\n",
    "You don't have to mark the floors and walls themselves (only objects attached to them).\n",
    "\n",
    "Not every object is selectable. You only have to mark the ones that have a box around them when you mouse over them.\n",
    "\n",
    "Thanks again everyone for the good work.\n",
    "\"\"\""
   ]
  },
  {
   "cell_type": "code",
   "execution_count": 806,
   "metadata": {
    "collapsed": false,
    "hidden": true
   },
   "outputs": [],
   "source": [
    "contacted_me = 'A3D0B5IL447G74'\n",
    "m2 ='A5N6QK76RTR7R'"
   ]
  },
  {
   "cell_type": "code",
   "execution_count": 794,
   "metadata": {
    "collapsed": true,
    "hidden": true
   },
   "outputs": [],
   "source": [
    "with open('./good_workers.txt', 'r') as f:\n",
    "    all_good_workers = f.readlines()\n",
    "    all_good_workers = [w.strip() for w in all_good_workers]"
   ]
  },
  {
   "cell_type": "code",
   "execution_count": null,
   "metadata": {
    "collapsed": true,
    "hidden": true
   },
   "outputs": [],
   "source": []
  },
  {
   "cell_type": "code",
   "execution_count": 833,
   "metadata": {
    "collapsed": false,
    "deletable": true,
    "editable": true,
    "hidden": true,
    "run_control": {
     "frozen": false,
     "read_only": false
    }
   },
   "outputs": [],
   "source": [
    "# _ = mturk.notify_workers(all_good_workers[100:], subject, message)"
   ]
  },
  {
   "cell_type": "markdown",
   "metadata": {
    "deletable": true,
    "editable": true
   },
   "source": [
    "# HIT end-of-life"
   ]
  },
  {
   "cell_type": "markdown",
   "metadata": {
    "deletable": true,
    "editable": true,
    "heading_collapsed": true
   },
   "source": [
    "## Pickle latest results"
   ]
  },
  {
   "cell_type": "code",
   "execution_count": 212,
   "metadata": {
    "collapsed": true,
    "deletable": true,
    "editable": true,
    "hidden": true,
    "run_control": {
     "frozen": false,
     "read_only": false
    }
   },
   "outputs": [],
   "source": [
    "#reset as needed\n",
    "gn = 1"
   ]
  },
  {
   "cell_type": "code",
   "execution_count": 834,
   "metadata": {
    "collapsed": false,
    "deletable": true,
    "editable": true,
    "hidden": true,
    "run_control": {
     "frozen": false,
     "read_only": false
    }
   },
   "outputs": [
    {
     "data": {
      "text/plain": [
       "2"
      ]
     },
     "execution_count": 834,
     "metadata": {},
     "output_type": "execute_result"
    }
   ],
   "source": [
    "gn"
   ]
  },
  {
   "cell_type": "code",
   "execution_count": 835,
   "metadata": {
    "collapsed": false,
    "deletable": true,
    "editable": true,
    "hidden": true,
    "run_control": {
     "frozen": false,
     "read_only": false
    }
   },
   "outputs": [
    {
     "name": "stdout",
     "output_type": "stream",
     "text": [
      "saved HIT batch number 2\n",
      "now onto batch 3\n"
     ]
    }
   ],
   "source": [
    "next_group = gn + 1\n",
    "group_n = '_' + str(gn) + '/'\n",
    "\n",
    "temp_store_dir = './store_hit_results_metadata/group'\n",
    "try:\n",
    "    os.mkdir(temp_store_dir + group_n)\n",
    "except:\n",
    "    OSError\n",
    "    \n",
    "result_file_name = 'hit_info.pkl'\n",
    "assignment_file_name = 'assignment_info.pkl'\n",
    "raw_results_file_name = 'raw_res.pkl'\n",
    "complete_results_file = 'complete_df.pkl'\n",
    "consensus_results_file = 'consensus_df.pkl'\n",
    "\n",
    "amt_util.pickle_this(r_hits_current_batch, temp_store_dir + group_n + result_file_name)\n",
    "amt_util.pickle_this(assignment_results_current_batch, temp_store_dir + group_n + assignment_file_name)\n",
    "amt_util.pickle_this(raw_hit_results_current_batch, temp_store_dir + group_n + raw_results_file_name)\n",
    "raw_res_df.to_pickle(temp_store_dir + group_n + complete_results_file)\n",
    "print 'saved HIT batch number ' + str(gn)\n",
    "print 'now onto batch ' +str(next_group) \n",
    "gn = next_group"
   ]
  },
  {
   "cell_type": "markdown",
   "metadata": {
    "deletable": true,
    "editable": true,
    "heading_collapsed": true
   },
   "source": [
    "## Pickle combined dataset"
   ]
  },
  {
   "cell_type": "code",
   "execution_count": 210,
   "metadata": {
    "collapsed": false,
    "deletable": true,
    "editable": true,
    "hidden": true,
    "run_control": {
     "frozen": false,
     "read_only": false
    }
   },
   "outputs": [
    {
     "ename": "NameError",
     "evalue": "name 'combined_results_df' is not defined",
     "output_type": "error",
     "traceback": [
      "\u001b[0;31m---------------------------------------------------------------------------\u001b[0m",
      "\u001b[0;31mNameError\u001b[0m                                 Traceback (most recent call last)",
      "\u001b[0;32m<ipython-input-210-a050392f1c99>\u001b[0m in \u001b[0;36m<module>\u001b[0;34m()\u001b[0m\n\u001b[1;32m     10\u001b[0m \u001b[0mconsensus_results_file_w_workers\u001b[0m \u001b[0;34m=\u001b[0m \u001b[0;34m'consensus_df_w_workers.pkl'\u001b[0m\u001b[0;34m\u001b[0m\u001b[0m\n\u001b[1;32m     11\u001b[0m \u001b[0;34m\u001b[0m\u001b[0m\n\u001b[0;32m---> 12\u001b[0;31m \u001b[0mcombined_results_df\u001b[0m\u001b[0;34m.\u001b[0m\u001b[0mto_pickle\u001b[0m\u001b[0;34m(\u001b[0m\u001b[0mtemp_store_dir\u001b[0m \u001b[0;34m+\u001b[0m \u001b[0mgroup_n\u001b[0m \u001b[0;34m+\u001b[0m \u001b[0mcomplete_results_file\u001b[0m\u001b[0;34m)\u001b[0m\u001b[0;34m\u001b[0m\u001b[0m\n\u001b[0m\u001b[1;32m     13\u001b[0m \u001b[0mcombined_consensus_df\u001b[0m\u001b[0;34m.\u001b[0m\u001b[0mto_pickle\u001b[0m\u001b[0;34m(\u001b[0m\u001b[0mtemp_store_dir\u001b[0m \u001b[0;34m+\u001b[0m \u001b[0mgroup_n\u001b[0m \u001b[0;34m+\u001b[0m \u001b[0mconsensus_results_file\u001b[0m\u001b[0;34m)\u001b[0m\u001b[0;34m\u001b[0m\u001b[0m\n\u001b[1;32m     14\u001b[0m \u001b[0mcombined_consensus_with_workerid_df\u001b[0m\u001b[0;34m.\u001b[0m\u001b[0mto_pickle\u001b[0m\u001b[0;34m(\u001b[0m\u001b[0mtemp_store_dir\u001b[0m \u001b[0;34m+\u001b[0m \u001b[0mgroup_n\u001b[0m \u001b[0;34m+\u001b[0m \u001b[0mconsensus_results_file_w_workers\u001b[0m\u001b[0;34m)\u001b[0m\u001b[0;34m\u001b[0m\u001b[0m\n",
      "\u001b[0;31mNameError\u001b[0m: name 'combined_results_df' is not defined"
     ]
    }
   ],
   "source": [
    "temp_store_dir = './store_hit_results_metadata/group'\n",
    "group_n = '_latest_combined/'\n",
    "try:\n",
    "    os.mkdir(temp_store_dir + group_n)\n",
    "except:\n",
    "    OSError\n",
    "    \n",
    "complete_results_file = 'complete_df.pkl'\n",
    "consensus_results_file = 'consensus_df.pkl'\n",
    "consensus_results_file_w_workers = 'consensus_df_w_workers.pkl'\n",
    "\n",
    "combined_results_df.to_pickle(temp_store_dir + group_n + complete_results_file)\n",
    "combined_consensus_df.to_pickle(temp_store_dir + group_n + consensus_results_file)\n",
    "combined_consensus_with_workerid_df.to_pickle(temp_store_dir + group_n + consensus_results_file_w_workers)"
   ]
  },
  {
   "cell_type": "markdown",
   "metadata": {
    "deletable": true,
    "editable": true,
    "heading_collapsed": true
   },
   "source": [
    "## Accepting and deleting HITs... careful with these"
   ]
  },
  {
   "cell_type": "markdown",
   "metadata": {
    "deletable": true,
    "editable": true,
    "hidden": true
   },
   "source": [
    "Uncomment only when ready to accept or delete hits"
   ]
  },
  {
   "cell_type": "markdown",
   "metadata": {
    "deletable": true,
    "editable": true,
    "hidden": true
   },
   "source": [
    "reject assignments carefully"
   ]
  },
  {
   "cell_type": "code",
   "execution_count": 336,
   "metadata": {
    "collapsed": true,
    "hidden": true
   },
   "outputs": [],
   "source": [
    "all_hits = list(mturk.get_all_hits())"
   ]
  },
  {
   "cell_type": "code",
   "execution_count": 337,
   "metadata": {
    "collapsed": false,
    "hidden": true
   },
   "outputs": [
    {
     "data": {
      "text/plain": [
       "9782"
      ]
     },
     "execution_count": 337,
     "metadata": {},
     "output_type": "execute_result"
    }
   ],
   "source": [
    "len(all_hits)"
   ]
  },
  {
   "cell_type": "code",
   "execution_count": 339,
   "metadata": {
    "collapsed": true,
    "hidden": true
   },
   "outputs": [],
   "source": [
    "test_hit = all_hits[0]"
   ]
  },
  {
   "cell_type": "code",
   "execution_count": 342,
   "metadata": {
    "collapsed": false,
    "hidden": true
   },
   "outputs": [
    {
     "data": {
      "text/plain": [
       "u'3RQVKZ7ZRKFK7EUBFI3ANVLM82X72B'"
      ]
     },
     "execution_count": 342,
     "metadata": {},
     "output_type": "execute_result"
    }
   ],
   "source": [
    "test_hit.HITId"
   ]
  },
  {
   "cell_type": "code",
   "execution_count": 345,
   "metadata": {
    "collapsed": false,
    "hidden": true
   },
   "outputs": [],
   "source": [
    "for a_hit in all_hits:\n",
    "    mturk.expire_hit(a_hit.HITId)"
   ]
  },
  {
   "cell_type": "code",
   "execution_count": null,
   "metadata": {
    "collapsed": true,
    "hidden": true
   },
   "outputs": [],
   "source": [
    "for hid in all_hits:\n",
    "    boto."
   ]
  },
  {
   "cell_type": "code",
   "execution_count": 321,
   "metadata": {
    "collapsed": false,
    "deletable": true,
    "editable": true,
    "hidden": true,
    "run_control": {
     "frozen": false,
     "read_only": false
    },
    "scrolled": false
   },
   "outputs": [],
   "source": [
    "# number_rejected_assignments, number_rejected_workers = amt_util.reject_assignments(mturk, workers_to_ban, combined_consensus_with_workerid_df)\n",
    "# print 'rejecting ' + str(number_rejected_assignments) + ' assignments' + ' from ' + str(number_rejected_workers) + ' workers'"
   ]
  },
  {
   "cell_type": "code",
   "execution_count": 1752,
   "metadata": {
    "collapsed": false,
    "deletable": true,
    "editable": true,
    "hidden": true,
    "run_control": {
     "frozen": false,
     "read_only": false
    }
   },
   "outputs": [
    {
     "data": {
      "text/plain": [
       "3"
      ]
     },
     "execution_count": 1752,
     "metadata": {},
     "output_type": "execute_result"
    }
   ],
   "source": [
    "len()"
   ]
  },
  {
   "cell_type": "code",
   "execution_count": 778,
   "metadata": {
    "collapsed": false,
    "hidden": true
   },
   "outputs": [
    {
     "data": {
      "text/plain": [
       "11782"
      ]
     },
     "execution_count": 778,
     "metadata": {},
     "output_type": "execute_result"
    }
   ],
   "source": [
    "len(assignment_results_current_batch)"
   ]
  },
  {
   "cell_type": "code",
   "execution_count": 783,
   "metadata": {
    "collapsed": false,
    "hidden": true
   },
   "outputs": [
    {
     "data": {
      "text/plain": [
       "74"
      ]
     },
     "execution_count": 783,
     "metadata": {},
     "output_type": "execute_result"
    }
   ],
   "source": [
    "len(potentially_good_workers)"
   ]
  },
  {
   "cell_type": "code",
   "execution_count": 786,
   "metadata": {
    "collapsed": false,
    "hidden": true
   },
   "outputs": [],
   "source": [
    "assigment_count = 0\n",
    "for hit_id, hit_assignments in list(assignment_results_current_batch.items()):\n",
    "    for assignment in hit_assignments:\n",
    "        if assignment.AssignmentStatus == 'Submitted':\n",
    "            if assignment.WorkerId in potentially_good_workers:\n",
    "                assigment_count += 1"
   ]
  },
  {
   "cell_type": "code",
   "execution_count": 788,
   "metadata": {
    "collapsed": false,
    "hidden": true
   },
   "outputs": [],
   "source": [
    "good_worker_assignments = [item for sublist in assignment_results_current_batch.values() for item in sublist if item.WorkerId in potentially_good_workers]"
   ]
  },
  {
   "cell_type": "code",
   "execution_count": 790,
   "metadata": {
    "collapsed": false,
    "deletable": true,
    "editable": true,
    "hidden": true,
    "run_control": {
     "frozen": false,
     "read_only": false
    }
   },
   "outputs": [],
   "source": [
    "# flattened_assignments = [item for sublist in assignment_results_current_batch.values() for item in sublist]\n",
    "\n",
    "# len(flattened_assignments)\n",
    "\n",
    "# # amt_util.get_assignment_statuses(assignment_results_current_batch)\n",
    "\n",
    "# amt_util.get_assignment_statuses(assignment_results_current_batch)\n",
    "\n",
    "# amt_util.accept_hits(mturk, flattened_assignments)\n",
    "\n",
    "amt_util.accept_assignments(mturk, good_worker_assignments)"
   ]
  },
  {
   "cell_type": "code",
   "execution_count": 259,
   "metadata": {
    "collapsed": false,
    "hidden": true
   },
   "outputs": [
    {
     "data": {
      "text/plain": [
       "1302"
      ]
     },
     "execution_count": 259,
     "metadata": {},
     "output_type": "execute_result"
    }
   ],
   "source": [
    "len(flattened_assignments)"
   ]
  },
  {
   "cell_type": "code",
   "execution_count": 437,
   "metadata": {
    "collapsed": false,
    "deletable": true,
    "editable": true,
    "hidden": true,
    "run_control": {
     "frozen": false,
     "read_only": false
    }
   },
   "outputs": [],
   "source": [
    "# amt_util.delete_some_hits(mturk, assignment_results_current_batch_post_)"
   ]
  },
  {
   "cell_type": "code",
   "execution_count": 100,
   "metadata": {
    "collapsed": false,
    "deletable": true,
    "editable": true,
    "hidden": true,
    "run_control": {
     "frozen": false,
     "read_only": false
    }
   },
   "outputs": [],
   "source": [
    "# amt_util.delete_all_hits(mturk)"
   ]
  },
  {
   "cell_type": "markdown",
   "metadata": {
    "collapsed": true,
    "deletable": true,
    "editable": true,
    "heading_collapsed": true,
    "run_control": {
     "frozen": false,
     "read_only": false
    }
   },
   "source": [
    "# End"
   ]
  },
  {
   "cell_type": "code",
   "execution_count": null,
   "metadata": {
    "collapsed": true,
    "deletable": true,
    "editable": true,
    "hidden": true,
    "run_control": {
     "frozen": false,
     "read_only": false
    }
   },
   "outputs": [],
   "source": [
    "def area_intersect_over_union(segmentImage1, segmentImage2, segmentArea1 = 0, segmentArea2 = 0):\n",
    "    areaIntersection = np.sum(segmentImage1 & segmentImage2)\n",
    "    if areaIntersection == 0:\n",
    "        return 0, 0, 0\n",
    "    if segmentArea1 == 0:\n",
    "        segmentArea1 = np.sum(segmentImage1)\n",
    "    if segmentArea2 == 0:\n",
    "        segmentArea2 = np.sum(segmentImage2)\n",
    "    areaOverlap = areaIntersection / (segmentArea1 + segmentArea2 - areaIntersection + 0.01)\n",
    "    areaSelfOverlap1 = areaIntersection / (segmentArea1 + 0.01)\n",
    "    areaSelfOverlap2 = areaIntersection / (segmentArea2 + 0.01)\n",
    "    return areaOverlap, areaSelfOverlap1, areaSelfOverlap2\n",
    "\n",
    "\n",
    "def comp_iou(raw_image, ocr_box, anno_box):\n",
    "\n",
    "    def update_img(mask, box):\n",
    "        # box\n",
    "        # some rectangle of the structure [[start_x, start_y], [end_x, end_y]\n",
    "        start_x, start_y = box[0]\n",
    "        end_x, end_y = box[1]\n",
    "        mask[start_y:end_y + 1, start_x:end_x + 1] = True\n",
    "\n",
    "    mask_a = np.zeros(raw_image.shape[0:2], dtype=np.bool)\n",
    "    mask_b = np.zeros(raw_image.shape[0:2], dtype=np.bool)\n",
    "    update_img(mask_a, ocr_box['rectangle'])\n",
    "    update_img(mask_b, anno_box['rectangle'])\n",
    "\n",
    "    areaOverlap, areaSelfOverlap1, areaSelfOverlap2 = areaIntersectOverUnion(mask_a, mask_b)\n",
    "\n",
    "    #iou = (mask == 2).sum() / (mask >= 1).sum()\n",
    "    return areaOverlap, areaSelfOverlap1, areaSelfOverlap2 "
   ]
  },
  {
   "cell_type": "code",
   "execution_count": null,
   "metadata": {
    "collapsed": true,
    "deletable": true,
    "editable": true,
    "hidden": true,
    "run_control": {
     "frozen": false,
     "read_only": false
    }
   },
   "outputs": [],
   "source": [
    "problem_name = 'continental_drift_9076.png'\n",
    "problem = diagram_locs[problem_name]\n",
    "\n",
    "\n",
    "image_path = flattened_topic_dir + problem_name\n",
    "drawn_image = draw_clusters(image_path, clustered_text_boxes_centers)\n",
    "Image.fromarray(drawn_image)\n",
    "\n",
    "[clust for clust in clustered_text_boxes_centers if len(clust) < 3]\n",
    "\n",
    "len (clustered_text_boxes)\n",
    "\n",
    "for box in clustered_text_boxes:\n",
    "    print box\n",
    "    print"
   ]
  },
  {
   "cell_type": "code",
   "execution_count": null,
   "metadata": {
    "collapsed": true,
    "deletable": true,
    "editable": true,
    "hidden": true,
    "run_control": {
     "frozen": false,
     "read_only": false
    }
   },
   "outputs": [],
   "source": [
    "# def find_overlapping_boxes(user_boxes):\n",
    "#     for user in range(1, len(user_boxes)):\n",
    "#         for box1 in user_boxes[0]:\n",
    "#             for box2 in sorted(user_boxes[user]):\n",
    "#                 biou = comp_boxes_iou(box1, box2)\n",
    "#                 if biou > 0.5\n",
    "#                     print biou\n",
    "# #         print"
   ]
  }
 ],
 "metadata": {
  "kernelspec": {
   "display_name": "Python 2",
   "language": "python",
   "name": "python2"
  },
  "language_info": {
   "codemirror_mode": {
    "name": "ipython",
    "version": 2
   },
   "file_extension": ".py",
   "mimetype": "text/x-python",
   "name": "python",
   "nbconvert_exporter": "python",
   "pygments_lexer": "ipython2",
   "version": "2.7.13"
  }
 },
 "nbformat": 4,
 "nbformat_minor": 0
}
